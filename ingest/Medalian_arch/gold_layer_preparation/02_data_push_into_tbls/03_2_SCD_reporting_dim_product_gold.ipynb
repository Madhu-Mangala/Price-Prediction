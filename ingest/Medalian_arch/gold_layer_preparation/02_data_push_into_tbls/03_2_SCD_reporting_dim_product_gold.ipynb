{
 "cells": [
  {
   "cell_type": "code",
   "execution_count": 0,
   "metadata": {
    "application/vnd.databricks.v1+cell": {
     "cellMetadata": {
      "byteLimit": 2048000,
      "rowLimit": 10000
     },
     "inputWidgets": {},
     "nuid": "a284d646-06f2-4ecc-9c19-0be0ae5ca48c",
     "showTitle": false,
     "tableResultSettingsMap": {},
     "title": ""
    }
   },
   "outputs": [],
   "source": [
    "use catalog uc_prod"
   ]
  },
  {
   "cell_type": "code",
   "execution_count": 0,
   "metadata": {
    "application/vnd.databricks.v1+cell": {
     "cellMetadata": {
      "byteLimit": 2048000,
      "rowLimit": 10000
     },
     "inputWidgets": {},
     "nuid": "04162ab5-dd01-4b39-9ba4-69a18fa3133b",
     "showTitle": false,
     "tableResultSettingsMap": {},
     "title": ""
    }
   },
   "outputs": [],
   "source": [
    "select distinct productgroup_name,product_name,record_updated_date from silver.daily_pricing_silver\n",
    "where lower(product_name) = 'onion'"
   ]
  },
  {
   "cell_type": "code",
   "execution_count": 0,
   "metadata": {
    "application/vnd.databricks.v1+cell": {
     "cellMetadata": {
      "byteLimit": 2048000,
      "rowLimit": 10000
     },
     "inputWidgets": {},
     "nuid": "edc54806-5721-4b02-8634-5154cc56117d",
     "showTitle": false,
     "tableResultSettingsMap": {},
     "title": ""
    }
   },
   "outputs": [],
   "source": [
    "select *  from gold.reporting_dim_product_gold\n",
    "where lower(PRODUCT_NAME) = 'onion'"
   ]
  },
  {
   "cell_type": "code",
   "execution_count": 0,
   "metadata": {
    "application/vnd.databricks.v1+cell": {
     "cellMetadata": {
      "byteLimit": 2048000,
      "rowLimit": 10000
     },
     "inputWidgets": {},
     "nuid": "2425437a-f6be-46be-a69f-4df04efd82c3",
     "showTitle": false,
     "tableResultSettingsMap": {},
     "title": ""
    }
   },
   "outputs": [],
   "source": [
    "-- update silver.daily_pricing_silver\n",
    "-- set productgroup_name = 'hybrid vegitables',\n",
    "--     record_updated_date = current_timestamp()\n",
    "-- where lower(product_name) = 'onion'"
   ]
  },
  {
   "cell_type": "code",
   "execution_count": 0,
   "metadata": {
    "application/vnd.databricks.v1+cell": {
     "cellMetadata": {
      "byteLimit": 2048000,
      "rowLimit": 10000
     },
     "inputWidgets": {},
     "nuid": "b32cd83b-94f4-4d7d-91ab-0b695131a4b4",
     "showTitle": false,
     "tableResultSettingsMap": {},
     "title": ""
    }
   },
   "outputs": [],
   "source": [
    "show create table uc_prod.gold.reporting_dim_product_gold"
   ]
  },
  {
   "cell_type": "code",
   "execution_count": 0,
   "metadata": {
    "application/vnd.databricks.v1+cell": {
     "cellMetadata": {
      "byteLimit": 2048000,
      "rowLimit": 10000
     },
     "inputWidgets": {},
     "nuid": "852c5c0a-0dd5-4fb7-a65e-329f4d87b8e5",
     "showTitle": false,
     "tableResultSettingsMap": {},
     "title": ""
    }
   },
   "outputs": [],
   "source": [
    "-- CREATE TABLE uc_prod.gold.reporting_dim_product_gold_scd2 (\n",
    "--   PRODUCTGROUP_NAME STRING,\n",
    "--   PRODUCT_NAME STRING,\n",
    "--   PRODUCT_ID BIGINT,\n",
    "--   start_date TIMESTAMP,\n",
    "--   end_date TIMESTAMP,\n",
    "--   lakehouse_inserted_date TIMESTAMP,\n",
    "--   lakehouse_updated_date TIMESTAMP)\n",
    "-- USING delta"
   ]
  },
  {
   "cell_type": "markdown",
   "metadata": {
    "application/vnd.databricks.v1+cell": {
     "cellMetadata": {
      "byteLimit": 2048000,
      "rowLimit": 10000
     },
     "inputWidgets": {},
     "nuid": "283f7c10-7384-4b2d-a9d2-ccabab067e67",
     "showTitle": false,
     "tableResultSettingsMap": {},
     "title": ""
    }
   },
   "source": [
    "### Getting the distinct states from the staing master table (silver.daily_pricing_silver)"
   ]
  },
  {
   "cell_type": "code",
   "execution_count": 0,
   "metadata": {
    "application/vnd.databricks.v1+cell": {
     "cellMetadata": {
      "byteLimit": 2048000,
      "rowLimit": 10000
     },
     "inputWidgets": {},
     "nuid": "68a211fe-f300-4d13-821c-7b185f4d3987",
     "showTitle": false,
     "tableResultSettingsMap": {},
     "title": ""
    }
   },
   "outputs": [],
   "source": [
    "\n",
    "create or replace table silver.dim_state_staging_st1_sc1\n",
    "select distinct productgroup_name,product_name from silver.daily_pricing_silver\n",
    "where record_updated_date > (\n",
    "      select nvl(max(process_file_updated_date),'2010-01-01') from uc_prod.watermark_tbl.process_logs \n",
    "      where process_name = 'reporting_dim_product_gold_scd2' and process_status ='completed'\n",
    "                            )\n"
   ]
  },
  {
   "cell_type": "code",
   "execution_count": 0,
   "metadata": {
    "application/vnd.databricks.v1+cell": {
     "cellMetadata": {
      "byteLimit": 2048000,
      "rowLimit": 10000
     },
     "inputWidgets": {},
     "nuid": "7a290895-a4c9-425b-89f6-66604430352b",
     "showTitle": false,
     "tableResultSettingsMap": {},
     "title": ""
    }
   },
   "outputs": [],
   "source": [
    "select * from silver.dim_state_staging_st1_sc1"
   ]
  },
  {
   "cell_type": "markdown",
   "metadata": {
    "application/vnd.databricks.v1+cell": {
     "cellMetadata": {
      "byteLimit": 2048000,
      "rowLimit": 10000
     },
     "inputWidgets": {},
     "nuid": "f3494789-b3b7-4333-9b12-c5dccc0a5c6f",
     "showTitle": false,
     "tableResultSettingsMap": {},
     "title": ""
    }
   },
   "source": [
    "### Add the distinct unique id for the state items"
   ]
  },
  {
   "cell_type": "markdown",
   "metadata": {
    "application/vnd.databricks.v1+cell": {
     "cellMetadata": {
      "byteLimit": 2048000,
      "rowLimit": 10000
     },
     "inputWidgets": {},
     "nuid": "9f09cba4-874d-4859-8620-9f7462ab6274",
     "showTitle": false,
     "tableResultSettingsMap": {},
     "title": ""
    }
   },
   "source": []
  },
  {
   "cell_type": "code",
   "execution_count": 0,
   "metadata": {
    "application/vnd.databricks.v1+cell": {
     "cellMetadata": {
      "byteLimit": 2048000,
      "rowLimit": 10000
     },
     "inputWidgets": {},
     "nuid": "de5c799e-8889-42b8-a9ee-3e359ae28bc7",
     "showTitle": false,
     "tableResultSettingsMap": {},
     "title": ""
    }
   },
   "outputs": [],
   "source": [
    "create or replace table silver.dim_state_staging_st2\n",
    "select \n",
    "st1.product_name,st1.productgroup_name,\n",
    "gpr.PRODUCT_ID as gold_product_id,\n",
    "row_number()over(order by st1.productgroup_name,st1.product_name)  rn_num,\n",
    "case when gpr.PRODUCT_ID is null then 'new' else 'changed' end as max_flag\n",
    "from silver.dim_state_staging_st1_sc1 as st1\n",
    "left join uc_prod.gold.reporting_dim_product_gold_scd2 as gpr\n",
    "on lower(gpr.PRODUCT_NAME) = lower(st1.product_name) and gpr.end_date is null\n",
    "where gpr.PRODUCT_NAME is null or st1.productgroup_name <> gpr.PRODUCTGROUP_NAME\n"
   ]
  },
  {
   "cell_type": "code",
   "execution_count": 0,
   "metadata": {
    "application/vnd.databricks.v1+cell": {
     "cellMetadata": {
      "byteLimit": 2048000,
      "rowLimit": 10000
     },
     "inputWidgets": {},
     "nuid": "d688c66a-23c3-44fb-bd25-ed2652ce7d49",
     "showTitle": false,
     "tableResultSettingsMap": {},
     "title": ""
    }
   },
   "outputs": [],
   "source": [
    "select * from silver.dim_state_staging_st2"
   ]
  },
  {
   "cell_type": "code",
   "execution_count": 0,
   "metadata": {
    "application/vnd.databricks.v1+cell": {
     "cellMetadata": {
      "byteLimit": 2048000,
      "rowLimit": 10000
     },
     "inputWidgets": {},
     "nuid": "a30666fc-7ff7-4b7b-82a0-b3fd7e805661",
     "showTitle": false,
     "tableResultSettingsMap": {},
     "title": ""
    }
   },
   "outputs": [],
   "source": [
    "create or replace table silver.dim_state_staging_st3\n",
    "select  (t.rn_num+s.max_flag) as  product_id,\n",
    "t.product_name as product_name,\n",
    "t.max_flag,\n",
    "t.gold_product_id,\n",
    "t.productgroup_name as productgroup_name\n",
    ",current_timestamp() as lakehouse_inserted_date,\n",
    "current_timestamp() as lakehouse_updated_date\n",
    "from silver.dim_state_staging_st2 as t\n",
    "cross join (select nvl(max(PRODUCT_ID),0) as max_flag from uc_prod.gold.reporting_dim_product_gold_scd2 ) as s"
   ]
  },
  {
   "cell_type": "code",
   "execution_count": 0,
   "metadata": {
    "application/vnd.databricks.v1+cell": {
     "cellMetadata": {
      "byteLimit": 2048000,
      "rowLimit": 10000
     },
     "inputWidgets": {},
     "nuid": "cffbf1ca-0176-4e66-9e82-8ebc9aeffcdb",
     "showTitle": false,
     "tableResultSettingsMap": {},
     "title": ""
    }
   },
   "outputs": [],
   "source": [
    "select * from silver.dim_state_staging_st3 where lower(product_name) = 'onion' "
   ]
  },
  {
   "cell_type": "code",
   "execution_count": 0,
   "metadata": {
    "application/vnd.databricks.v1+cell": {
     "cellMetadata": {
      "byteLimit": 2048000,
      "rowLimit": 10000
     },
     "inputWidgets": {},
     "nuid": "064a6cba-bfc8-4d77-bc05-27b660f8cf30",
     "showTitle": false,
     "tableResultSettingsMap": {},
     "title": ""
    }
   },
   "outputs": [],
   "source": [
    "select * from uc_prod.gold.reporting_dim_product_gold_scd2"
   ]
  },
  {
   "cell_type": "code",
   "execution_count": 0,
   "metadata": {
    "application/vnd.databricks.v1+cell": {
     "cellMetadata": {
      "byteLimit": 2048000,
      "rowLimit": 10000
     },
     "inputWidgets": {},
     "nuid": "1a88ced4-0449-4ec2-9cff-cad937a8eff1",
     "showTitle": false,
     "tableResultSettingsMap": {},
     "title": ""
    }
   },
   "outputs": [],
   "source": [
    "merge into uc_prod.gold.reporting_dim_product_gold_scd2 as tgt\n",
    "using (\n",
    "select * from silver.dim_state_staging_st3 as t\n",
    ") as src\n",
    "on tgt.PRODUCT_ID = src.gold_product_id\n",
    "when matched then update \n",
    "  set tgt.lakehouse_updated_date = current_timestamp(),\n",
    "      tgt.end_date = current_timestamp()\n",
    "when not matched then  \n",
    "  insert (\n",
    "      PRODUCT_ID,\n",
    "      PRODUCT_NAME,\n",
    "      PRODUCTGROUP_NAME,\n",
    "      start_date,\n",
    "      end_date,\n",
    "      lakehouse_inserted_date,\n",
    "      lakehouse_updated_date\n",
    "         )\n",
    "  values\n",
    "        (\n",
    "        src.product_id,\n",
    "        src.product_name,\n",
    "        src.productgroup_name,\n",
    "        current_timestamp(),\n",
    "        null,\n",
    "        src.lakehouse_inserted_date,\n",
    "        src.lakehouse_updated_date\n",
    "        )\n"
   ]
  },
  {
   "cell_type": "code",
   "execution_count": 0,
   "metadata": {
    "application/vnd.databricks.v1+cell": {
     "cellMetadata": {
      "byteLimit": 2048000,
      "rowLimit": 10000
     },
     "inputWidgets": {},
     "nuid": "c8843eee-109d-4372-88bf-35477445309f",
     "showTitle": false,
     "tableResultSettingsMap": {},
     "title": ""
    }
   },
   "outputs": [],
   "source": [
    "select * from uc_prod.gold.reporting_dim_product_gold_scd2"
   ]
  },
  {
   "cell_type": "code",
   "execution_count": 0,
   "metadata": {
    "application/vnd.databricks.v1+cell": {
     "cellMetadata": {
      "byteLimit": 2048000,
      "rowLimit": 10000
     },
     "inputWidgets": {},
     "nuid": "c4a62e58-74bd-4c0e-bf30-03837e05e4b8",
     "showTitle": false,
     "tableResultSettingsMap": {},
     "title": ""
    }
   },
   "outputs": [],
   "source": [
    "insert into uc_prod.gold.reporting_dim_product_gold_scd2\n",
    "select \n",
    "productgroup_name,\n",
    "product_name,\n",
    "product_id,\n",
    "current_timestamp(),\n",
    "null,\n",
    "current_timestamp(),\n",
    "current_timestamp()\n",
    "from silver.dim_state_staging_st3\n",
    "where max_flag = 'changed'"
   ]
  },
  {
   "cell_type": "markdown",
   "metadata": {
    "application/vnd.databricks.v1+cell": {
     "cellMetadata": {
      "byteLimit": 2048000,
      "rowLimit": 10000
     },
     "inputWidgets": {},
     "nuid": "1117d248-3398-4ef9-9461-f9ee9125d751",
     "showTitle": false,
     "tableResultSettingsMap": {},
     "title": ""
    }
   },
   "source": [
    "### update the water mark table"
   ]
  },
  {
   "cell_type": "code",
   "execution_count": 0,
   "metadata": {
    "application/vnd.databricks.v1+cell": {
     "cellMetadata": {
      "byteLimit": 2048000,
      "rowLimit": 10000
     },
     "inputWidgets": {},
     "nuid": "5f76fd24-6cf1-4d12-bbab-8107e3a5c72f",
     "showTitle": false,
     "tableResultSettingsMap": {},
     "title": ""
    }
   },
   "outputs": [],
   "source": [
    "select * from gold.reporting_dim_product_gold_scd2 where end_date is not null"
   ]
  },
  {
   "cell_type": "code",
   "execution_count": 0,
   "metadata": {
    "application/vnd.databricks.v1+cell": {
     "cellMetadata": {
      "byteLimit": 2048000,
      "rowLimit": 10000
     },
     "inputWidgets": {},
     "nuid": "49d22c77-9256-41e2-b363-0f14b187e796",
     "showTitle": false,
     "tableResultSettingsMap": {},
     "title": ""
    }
   },
   "outputs": [],
   "source": [
    "insert into uc_prod.watermark_tbl.process_logs\n",
    "(Process_name,Process_file_updated_date,process_status)\n",
    "values\n",
    "(\n",
    "'reporting_dim_product_gold_scd2',\n",
    "current_timestamp(),\n",
    "'completed'\n",
    ")"
   ]
  },
  {
   "cell_type": "code",
   "execution_count": 0,
   "metadata": {
    "application/vnd.databricks.v1+cell": {
     "cellMetadata": {
      "byteLimit": 2048000,
      "rowLimit": 10000
     },
     "inputWidgets": {},
     "nuid": "6383264b-946c-47f2-ba48-61ac656b1a78",
     "showTitle": false,
     "tableResultSettingsMap": {},
     "title": ""
    }
   },
   "outputs": [],
   "source": [
    "--truncate table uc_prod.gold.reporting_dim_product_gold_scd2;\n",
    "-- delete from uc_prod.watermark_tbl.process_logs where process_name = 'reporting_dim_product_gold_scd2'\n"
   ]
  },
  {
   "cell_type": "code",
   "execution_count": 0,
   "metadata": {
    "application/vnd.databricks.v1+cell": {
     "cellMetadata": {
      "byteLimit": 2048000,
      "rowLimit": 10000
     },
     "inputWidgets": {},
     "nuid": "c9843311-50fb-422d-b0ab-914ddd0471e4",
     "showTitle": false,
     "tableResultSettingsMap": {},
     "title": ""
    }
   },
   "outputs": [],
   "source": [
    "select * from gold.reporting_dim_product_gold_scd2 where lower(product_name) = 'onion'"
   ]
  }
 ],
 "metadata": {
  "application/vnd.databricks.v1+notebook": {
   "computePreferences": null,
   "dashboards": [],
   "environmentMetadata": {
    "base_environment": "",
    "environment_version": "2"
   },
   "inputWidgetPreferences": null,
   "language": "sql",
   "notebookMetadata": {
    "pythonIndentUnit": 4
   },
   "notebookName": "03_2_SCD_reporting_dim_product_gold",
   "widgets": {}
  },
  "language_info": {
   "name": "sql"
  }
 },
 "nbformat": 4,
 "nbformat_minor": 0
}
