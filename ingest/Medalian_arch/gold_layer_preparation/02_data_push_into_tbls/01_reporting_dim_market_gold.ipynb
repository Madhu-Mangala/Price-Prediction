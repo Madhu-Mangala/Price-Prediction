{
 "cells": [
  {
   "cell_type": "code",
   "execution_count": 0,
   "metadata": {
    "application/vnd.databricks.v1+cell": {
     "cellMetadata": {
      "byteLimit": 2048000,
      "rowLimit": 10000
     },
     "inputWidgets": {},
     "nuid": "ae836722-a051-45ae-8227-7c173d1bf8e5",
     "showTitle": false,
     "tableResultSettingsMap": {},
     "title": ""
    }
   },
   "outputs": [],
   "source": [
    "use catalog uc_prod"
   ]
  },
  {
   "cell_type": "code",
   "execution_count": 0,
   "metadata": {
    "application/vnd.databricks.v1+cell": {
     "cellMetadata": {
      "byteLimit": 2048000,
      "rowLimit": 10000
     },
     "inputWidgets": {},
     "nuid": "ba915d86-026b-4e02-98a5-2ecf6d6e311a",
     "showTitle": false,
     "tableResultSettingsMap": {},
     "title": ""
    }
   },
   "outputs": [],
   "source": [
    "-- update uc_prod.silver.daily_pricing_silver\n",
    "-- set market_name = 'Raichu',\n",
    "--     record_updated_date = current_timestamp()\n",
    "-- where market_name = 'Raichur'"
   ]
  },
  {
   "cell_type": "code",
   "execution_count": 0,
   "metadata": {
    "application/vnd.databricks.v1+cell": {
     "cellMetadata": {
      "byteLimit": 2048000,
      "rowLimit": 10000
     },
     "inputWidgets": {},
     "nuid": "a77ef289-de18-47dd-ad86-80fae850395a",
     "showTitle": false,
     "tableResultSettingsMap": {},
     "title": ""
    }
   },
   "outputs": [],
   "source": [
    "create or replace table uc_prod.silver.dim_market_gold_st_1\n",
    "select distinct market_name from uc_prod.silver.daily_pricing_silver\n",
    "where market_name is not null and \n",
    "record_updated_date>(\n",
    "  select nvl(max(process_file_updated_date),'2010-01-01') from uc_prod.watermark_tbl.process_logs\n",
    "   where Process_name='reporting_dim_market_gold' and process_status = 'completed'\n",
    "   )"
   ]
  },
  {
   "cell_type": "code",
   "execution_count": 0,
   "metadata": {
    "application/vnd.databricks.v1+cell": {
     "cellMetadata": {
      "byteLimit": 2048000,
      "rowLimit": 10000
     },
     "inputWidgets": {},
     "nuid": "20c47e37-a517-4ca7-9411-a2fd37d58137",
     "showTitle": false,
     "tableResultSettingsMap": {},
     "title": ""
    }
   },
   "outputs": [],
   "source": [
    "create or replace table uc_prod.silver.dim_market_gold_st_2\n",
    "select s.market_name, \n",
    "case when t.market_id is null \n",
    "  then row_number() over(order by s.market_name) \n",
    "  else t.market_id end as MARKET_ID_st2\n",
    ",t.market_id as gold_market_id\n",
    "from uc_prod.silver.dim_market_gold_st_1 s\n",
    "left join gold.reporting_dim_market_gold t\n",
    "on t.market_name = s.market_name\n",
    "where t.market_name is null or t.market_id is not null\n"
   ]
  },
  {
   "cell_type": "code",
   "execution_count": 0,
   "metadata": {
    "application/vnd.databricks.v1+cell": {
     "cellMetadata": {
      "byteLimit": 2048000,
      "rowLimit": 10000
     },
     "inputWidgets": {},
     "nuid": "2fd5e488-89e8-443a-a991-d3669373eb17",
     "showTitle": false,
     "tableResultSettingsMap": {},
     "title": ""
    }
   },
   "outputs": [],
   "source": [
    "create or replace table uc_prod.silver.dim_market_gold_st_3\n",
    "select \n",
    "market_name,\n",
    "case when  src.gold_market_id is null\n",
    "then (src.MARKET_ID_st2+max_id) \n",
    "else  src.gold_market_id end as MARKET_ID,\n",
    "current_timestamp() as lakehouse_inserted_date,\n",
    "current_timestamp() as lakehouse_updated_date \n",
    "from uc_prod.silver.dim_market_gold_st_2 as src\n",
    "cross join (select nvl(max(MARKET_ID),0) as max_id from uc_prod.gold.reporting_dim_market_gold)\n"
   ]
  },
  {
   "cell_type": "code",
   "execution_count": 0,
   "metadata": {
    "application/vnd.databricks.v1+cell": {
     "cellMetadata": {
      "byteLimit": 2048000,
      "rowLimit": 10000
     },
     "inputWidgets": {},
     "nuid": "528673f5-e2de-469d-8bcd-bd81fef46b96",
     "showTitle": false,
     "tableResultSettingsMap": {},
     "title": ""
    }
   },
   "outputs": [],
   "source": [
    "MERGE INTO uc_prod.gold.reporting_dim_market_gold AS t\n",
    "USING uc_prod.silver.dim_market_gold_st_3 AS s\n",
    "ON t.MARKET_ID = s.MARKET_ID\n",
    "WHEN MATCHED THEN \n",
    "UPDATE SET \n",
    "  t.lakehouse_inserted_date = s.lakehouse_inserted_date,\n",
    "  t.lakehouse_updated_date = s.lakehouse_updated_date,\n",
    "  t.MARKET_NAME = s.market_name\n",
    "WHEN NOT MATCHED THEN \n",
    "INSERT (\n",
    "  market_name, MARKET_ID, lakehouse_inserted_date, lakehouse_updated_date\n",
    "  ) VALUES (\n",
    "  s.market_name, s.MARKET_ID, s.lakehouse_inserted_date, s.lakehouse_updated_date\n",
    "  );\n"
   ]
  },
  {
   "cell_type": "markdown",
   "metadata": {
    "application/vnd.databricks.v1+cell": {
     "cellMetadata": {
      "byteLimit": 2048000,
      "rowLimit": 10000
     },
     "inputWidgets": {},
     "nuid": "b763d554-8353-4233-9497-c74d47327ff0",
     "showTitle": false,
     "tableResultSettingsMap": {},
     "title": ""
    }
   },
   "source": [
    "#### water mark update"
   ]
  },
  {
   "cell_type": "code",
   "execution_count": 0,
   "metadata": {
    "application/vnd.databricks.v1+cell": {
     "cellMetadata": {
      "byteLimit": 2048000,
      "rowLimit": 10000
     },
     "inputWidgets": {},
     "nuid": "f4dd2a6a-d7c6-4088-b0d4-ca190a18b4aa",
     "showTitle": false,
     "tableResultSettingsMap": {},
     "title": ""
    }
   },
   "outputs": [],
   "source": [
    "insert into uc_prod.watermark_tbl.process_logs (\n",
    "  Process_name,\n",
    "  process_file_updated_date,\n",
    "  process_status\n",
    ")\n",
    "select 'reporting_dim_market_gold',current_timestamp(),'completed' from\n",
    "uc_prod.silver.daily_pricing_silver "
   ]
  },
  {
   "cell_type": "code",
   "execution_count": 0,
   "metadata": {
    "application/vnd.databricks.v1+cell": {
     "cellMetadata": {
      "byteLimit": 2048000,
      "rowLimit": 10000
     },
     "inputWidgets": {},
     "nuid": "9890f699-6914-4a93-9af3-368c0e2f24b8",
     "showTitle": false,
     "tableResultSettingsMap": {},
     "title": ""
    }
   },
   "outputs": [],
   "source": [
    "-- truncate table uc_prod.gold.reporting_dim_market_gold;\n",
    "-- delete from uc_prod.watermark_tbl.process_logs where Process_name = 'reporting_dim_market_gold'"
   ]
  }
 ],
 "metadata": {
  "application/vnd.databricks.v1+notebook": {
   "computePreferences": null,
   "dashboards": [],
   "environmentMetadata": {
    "base_environment": "",
    "environment_version": "2"
   },
   "inputWidgetPreferences": null,
   "language": "sql",
   "notebookMetadata": {
    "pythonIndentUnit": 4
   },
   "notebookName": "01_reporting_dim_market_gold",
   "widgets": {}
  },
  "language_info": {
   "name": "sql"
  }
 },
 "nbformat": 4,
 "nbformat_minor": 0
}
