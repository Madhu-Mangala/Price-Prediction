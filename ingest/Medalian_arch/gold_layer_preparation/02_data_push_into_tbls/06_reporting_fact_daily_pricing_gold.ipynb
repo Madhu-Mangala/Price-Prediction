{
 "cells": [
  {
   "cell_type": "code",
   "execution_count": 0,
   "metadata": {
    "application/vnd.databricks.v1+cell": {
     "cellMetadata": {
      "byteLimit": 2048000,
      "rowLimit": 10000
     },
     "inputWidgets": {},
     "nuid": "a284d646-06f2-4ecc-9c19-0be0ae5ca48c",
     "showTitle": false,
     "tableResultSettingsMap": {},
     "title": ""
    }
   },
   "outputs": [],
   "source": [
    "use catalog uc_prod"
   ]
  },
  {
   "cell_type": "markdown",
   "metadata": {
    "application/vnd.databricks.v1+cell": {
     "cellMetadata": {
      "byteLimit": 2048000,
      "rowLimit": 10000
     },
     "inputWidgets": {},
     "nuid": "283f7c10-7384-4b2d-a9d2-ccabab067e67",
     "showTitle": false,
     "tableResultSettingsMap": {},
     "title": ""
    }
   },
   "source": [
    "### Getting the distinct states from the staing master table (silver.daily_pricing_silver)"
   ]
  },
  {
   "cell_type": "code",
   "execution_count": 0,
   "metadata": {
    "application/vnd.databricks.v1+cell": {
     "cellMetadata": {
      "byteLimit": 2048000,
      "rowLimit": 10000
     },
     "inputWidgets": {},
     "nuid": "0e0a5f41-cadf-4a58-a327-d101e66ecd79",
     "showTitle": false,
     "tableResultSettingsMap": {},
     "title": ""
    }
   },
   "outputs": [],
   "source": [
    "insert into gold.reporting_fact_daily_pricing_gold\n",
    "select \n",
    "dt.DATE_ID,\n",
    "st.state_id,\n",
    "mkt.MARKET_ID,\n",
    "prd.PRODUCT_ID,\n",
    "vr.VARIETY_ID,\n",
    "dps.ROW_ID,\n",
    "dps.ARRIVAL_IN_TONNES,\n",
    "dps.minimum_price,\n",
    "dps.maximum_price,\n",
    "dps.modal_price,\n",
    "current_timestamp() as lakehouse_inserted_date,\n",
    "current_timestamp() as lakehouse_updated_date\n",
    "from silver.daily_pricing_silver as dps\n",
    "left join gold.reporting_dim_date_gold as dt on dps.date_of_pricing = dt.CALENDAR_DATE\n",
    "left join gold.reporting_dim_market_gold as mkt on dps.market_name = mkt.MARKET_NAME\n",
    "left join gold.reporting_dim_state_gold as st on dps.STATE_NAME = st.STATE_NAME\n",
    "left join gold.reporting_dim_variety_gold as vr on dps.variety = vr.variety\n",
    "left join gold.reporting_dim_product_gold as prd on dps.product_name  = prd.PRODUCT_NAME and dps.productgroup_name = prd.PRODUCTGROUP_NAME\n",
    "where record_updated_date > (\n",
    "      select nvl(max(Process_file_updated_date),'2010-01-01') from uc_prod.watermark_tbl.process_logs \n",
    "      where process_name = 'reporting_fact_daily_pricing_gold' and process_status ='completed'\n",
    "                            )\n",
    " "
   ]
  },
  {
   "cell_type": "markdown",
   "metadata": {
    "application/vnd.databricks.v1+cell": {
     "cellMetadata": {
      "byteLimit": 2048000,
      "rowLimit": 10000
     },
     "inputWidgets": {},
     "nuid": "f3494789-b3b7-4333-9b12-c5dccc0a5c6f",
     "showTitle": false,
     "tableResultSettingsMap": {},
     "title": ""
    }
   },
   "source": [
    "### Add the distinct unique id for the state items"
   ]
  },
  {
   "cell_type": "markdown",
   "metadata": {
    "application/vnd.databricks.v1+cell": {
     "cellMetadata": {
      "byteLimit": 2048000,
      "rowLimit": 10000
     },
     "inputWidgets": {},
     "nuid": "9f09cba4-874d-4859-8620-9f7462ab6274",
     "showTitle": false,
     "tableResultSettingsMap": {},
     "title": ""
    }
   },
   "source": []
  },
  {
   "cell_type": "code",
   "execution_count": 0,
   "metadata": {
    "application/vnd.databricks.v1+cell": {
     "cellMetadata": {},
     "inputWidgets": {},
     "nuid": "e5aad311-c350-4f19-ad67-558fe5dd3687",
     "showTitle": false,
     "tableResultSettingsMap": {},
     "title": ""
    }
   },
   "outputs": [],
   "source": []
  },
  {
   "cell_type": "markdown",
   "metadata": {
    "application/vnd.databricks.v1+cell": {
     "cellMetadata": {
      "byteLimit": 2048000,
      "rowLimit": 10000
     },
     "inputWidgets": {},
     "nuid": "1117d248-3398-4ef9-9461-f9ee9125d751",
     "showTitle": false,
     "tableResultSettingsMap": {},
     "title": ""
    }
   },
   "source": [
    "### update the water mark table"
   ]
  },
  {
   "cell_type": "code",
   "execution_count": 0,
   "metadata": {
    "application/vnd.databricks.v1+cell": {
     "cellMetadata": {
      "byteLimit": 2048000,
      "rowLimit": 10000
     },
     "inputWidgets": {},
     "nuid": "49d22c77-9256-41e2-b363-0f14b187e796",
     "showTitle": false,
     "tableResultSettingsMap": {},
     "title": ""
    }
   },
   "outputs": [],
   "source": [
    "insert into uc_prod.watermark_tbl.process_logs\n",
    "(Process_name,Process_file_updated_date,process_status)\n",
    "values\n",
    "(\n",
    "'reporting_fact_daily_pricing_gold',\n",
    "current_timestamp(),\n",
    "'completed'\n",
    ")"
   ]
  }
 ],
 "metadata": {
  "application/vnd.databricks.v1+notebook": {
   "computePreferences": null,
   "dashboards": [],
   "environmentMetadata": {
    "base_environment": "",
    "environment_version": "2"
   },
   "inputWidgetPreferences": null,
   "language": "sql",
   "notebookMetadata": {
    "pythonIndentUnit": 4
   },
   "notebookName": "06_reporting_fact_daily_pricing_gold",
   "widgets": {}
  },
  "language_info": {
   "name": "sql"
  }
 },
 "nbformat": 4,
 "nbformat_minor": 0
}
