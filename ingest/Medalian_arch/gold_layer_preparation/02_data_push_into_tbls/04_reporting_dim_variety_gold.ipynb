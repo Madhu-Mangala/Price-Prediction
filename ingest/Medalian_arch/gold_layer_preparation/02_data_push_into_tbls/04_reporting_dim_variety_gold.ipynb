{
 "cells": [
  {
   "cell_type": "code",
   "execution_count": 0,
   "metadata": {
    "application/vnd.databricks.v1+cell": {
     "cellMetadata": {
      "byteLimit": 2048000,
      "rowLimit": 10000
     },
     "inputWidgets": {},
     "nuid": "a284d646-06f2-4ecc-9c19-0be0ae5ca48c",
     "showTitle": false,
     "tableResultSettingsMap": {},
     "title": ""
    }
   },
   "outputs": [],
   "source": [
    "use catalog uc_prod"
   ]
  },
  {
   "cell_type": "markdown",
   "metadata": {
    "application/vnd.databricks.v1+cell": {
     "cellMetadata": {
      "byteLimit": 2048000,
      "rowLimit": 10000
     },
     "inputWidgets": {},
     "nuid": "283f7c10-7384-4b2d-a9d2-ccabab067e67",
     "showTitle": false,
     "tableResultSettingsMap": {},
     "title": ""
    }
   },
   "source": [
    "### Getting the distinct states from the staing master table (silver.daily_pricing_silver)"
   ]
  },
  {
   "cell_type": "code",
   "execution_count": 0,
   "metadata": {
    "application/vnd.databricks.v1+cell": {
     "cellMetadata": {
      "byteLimit": 2048000,
      "rowLimit": 10000
     },
     "inputWidgets": {},
     "nuid": "68a211fe-f300-4d13-821c-7b185f4d3987",
     "showTitle": false,
     "tableResultSettingsMap": {},
     "title": ""
    }
   },
   "outputs": [],
   "source": [
    "\n",
    "create or replace table silver.dim_variety_staging_st1\n",
    "select distinct variety from silver.daily_pricing_silver\n",
    "where record_updated_date > (\n",
    "      select nvl(max(process_file_updated_date),'2010-01-01') from uc_prod.watermark_tbl.process_logs \n",
    "      where process_name = 'reporting_dim_variety_gold' and process_status ='completed'\n",
    "                            )\n"
   ]
  },
  {
   "cell_type": "markdown",
   "metadata": {
    "application/vnd.databricks.v1+cell": {
     "cellMetadata": {
      "byteLimit": 2048000,
      "rowLimit": 10000
     },
     "inputWidgets": {},
     "nuid": "f3494789-b3b7-4333-9b12-c5dccc0a5c6f",
     "showTitle": false,
     "tableResultSettingsMap": {},
     "title": ""
    }
   },
   "source": [
    "### Add the distinct unique id for the state items"
   ]
  },
  {
   "cell_type": "markdown",
   "metadata": {
    "application/vnd.databricks.v1+cell": {
     "cellMetadata": {
      "byteLimit": 2048000,
      "rowLimit": 10000
     },
     "inputWidgets": {},
     "nuid": "9f09cba4-874d-4859-8620-9f7462ab6274",
     "showTitle": false,
     "tableResultSettingsMap": {},
     "title": ""
    }
   },
   "source": []
  },
  {
   "cell_type": "code",
   "execution_count": 0,
   "metadata": {
    "application/vnd.databricks.v1+cell": {
     "cellMetadata": {
      "byteLimit": 2048000,
      "rowLimit": 10000
     },
     "inputWidgets": {},
     "nuid": "de5c799e-8889-42b8-a9ee-3e359ae28bc7",
     "showTitle": false,
     "tableResultSettingsMap": {},
     "title": ""
    }
   },
   "outputs": [],
   "source": [
    "create or replace table uc_prod.silver.dim_variety_gold_st_2\n",
    "select s.variety, \n",
    "case when t.variety_id is null \n",
    "  then row_number() over(order by s.variety) \n",
    "  else t.variety_id end as variety_ID_st2\n",
    ",t.variety_id as gold_variety_id\n",
    "from uc_prod.silver.dim_variety_staging_st1 s\n",
    "left join gold.reporting_dim_variety_gold t\n",
    "on t.variety = s.variety\n",
    "where t.variety is null or t.variety_id is not null"
   ]
  },
  {
   "cell_type": "code",
   "execution_count": 0,
   "metadata": {
    "application/vnd.databricks.v1+cell": {
     "cellMetadata": {
      "byteLimit": 2048000,
      "rowLimit": 10000
     },
     "inputWidgets": {},
     "nuid": "a30666fc-7ff7-4b7b-82a0-b3fd7e805661",
     "showTitle": false,
     "tableResultSettingsMap": {},
     "title": ""
    }
   },
   "outputs": [],
   "source": [
    "create or replace table uc_prod.silver.dim_variety_gold_st_3\n",
    "select \n",
    "variety,\n",
    "case when  src.gold_variety_id is null\n",
    "then (src.variety_ID_st2+max_id) \n",
    "else  src.gold_variety_id end as VARIETY_ID,\n",
    "current_timestamp() as lakehouse_inserted_date,\n",
    "current_timestamp() as lakehouse_updated_date \n",
    "from uc_prod.silver.dim_variety_gold_st_2 as src\n",
    "cross join (select nvl(max(VARIETY_ID),0) as max_id from uc_prod.gold.reporting_dim_variety_gold)"
   ]
  },
  {
   "cell_type": "code",
   "execution_count": 0,
   "metadata": {
    "application/vnd.databricks.v1+cell": {
     "cellMetadata": {
      "byteLimit": 2048000,
      "rowLimit": 10000
     },
     "inputWidgets": {},
     "nuid": "1a88ced4-0449-4ec2-9cff-cad937a8eff1",
     "showTitle": false,
     "tableResultSettingsMap": {},
     "title": ""
    }
   },
   "outputs": [],
   "source": [
    "merge into gold.reporting_dim_variety_gold as tgt\n",
    "using uc_prod.silver.dim_variety_gold_st_3 src\n",
    "on tgt.variety = src.variety and src.variety is not null\n",
    "when matched then update \n",
    "  set tgt.lakehouse_updated_date = current_timestamp()\n",
    "when not matched then  \n",
    "  insert (\n",
    "      VARIETY_ID,\n",
    "      VARIETY,\n",
    "      lakehouse_inserted_date,\n",
    "      lakehouse_updated_date\n",
    "         )\n",
    "  values\n",
    "        (\n",
    "        src.VARIETY_ID,\n",
    "        src.VARIETY,\n",
    "        src.lakehouse_inserted_date,\n",
    "        src.lakehouse_updated_date\n",
    "        )\n"
   ]
  },
  {
   "cell_type": "markdown",
   "metadata": {
    "application/vnd.databricks.v1+cell": {
     "cellMetadata": {
      "byteLimit": 2048000,
      "rowLimit": 10000
     },
     "inputWidgets": {},
     "nuid": "1117d248-3398-4ef9-9461-f9ee9125d751",
     "showTitle": false,
     "tableResultSettingsMap": {},
     "title": ""
    }
   },
   "source": [
    "### update the water mark table"
   ]
  },
  {
   "cell_type": "code",
   "execution_count": 0,
   "metadata": {
    "application/vnd.databricks.v1+cell": {
     "cellMetadata": {
      "byteLimit": 2048000,
      "rowLimit": 10000
     },
     "inputWidgets": {},
     "nuid": "49d22c77-9256-41e2-b363-0f14b187e796",
     "showTitle": false,
     "tableResultSettingsMap": {},
     "title": ""
    }
   },
   "outputs": [],
   "source": [
    "insert into uc_prod.watermark_tbl.process_logs\n",
    "(Process_name,Process_file_updated_date,process_status)\n",
    "values\n",
    "(\n",
    "'reporting_dim_variety_gold',\n",
    "current_timestamp(),\n",
    "'completed'\n",
    ")"
   ]
  }
 ],
 "metadata": {
  "application/vnd.databricks.v1+notebook": {
   "computePreferences": null,
   "dashboards": [],
   "environmentMetadata": {
    "base_environment": "",
    "environment_version": "2"
   },
   "inputWidgetPreferences": null,
   "language": "sql",
   "notebookMetadata": {
    "pythonIndentUnit": 4
   },
   "notebookName": "04_reporting_dim_variety_gold",
   "widgets": {}
  },
  "language_info": {
   "name": "sql"
  }
 },
 "nbformat": 4,
 "nbformat_minor": 0
}
