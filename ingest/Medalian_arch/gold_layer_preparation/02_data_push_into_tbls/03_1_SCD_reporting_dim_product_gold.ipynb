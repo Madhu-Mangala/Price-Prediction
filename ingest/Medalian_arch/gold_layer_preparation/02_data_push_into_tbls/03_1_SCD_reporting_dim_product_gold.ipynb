{
 "cells": [
  {
   "cell_type": "code",
   "execution_count": 0,
   "metadata": {
    "application/vnd.databricks.v1+cell": {
     "cellMetadata": {
      "byteLimit": 2048000,
      "rowLimit": 10000
     },
     "inputWidgets": {},
     "nuid": "a284d646-06f2-4ecc-9c19-0be0ae5ca48c",
     "showTitle": false,
     "tableResultSettingsMap": {},
     "title": ""
    }
   },
   "outputs": [],
   "source": [
    "use catalog uc_prod"
   ]
  },
  {
   "cell_type": "markdown",
   "metadata": {
    "application/vnd.databricks.v1+cell": {
     "cellMetadata": {
      "byteLimit": 2048000,
      "rowLimit": 10000
     },
     "inputWidgets": {},
     "nuid": "283f7c10-7384-4b2d-a9d2-ccabab067e67",
     "showTitle": false,
     "tableResultSettingsMap": {},
     "title": ""
    }
   },
   "source": [
    "### Getting the distinct states from the staing master table (silver.daily_pricing_silver)"
   ]
  },
  {
   "cell_type": "code",
   "execution_count": 0,
   "metadata": {
    "application/vnd.databricks.v1+cell": {
     "cellMetadata": {
      "byteLimit": 2048000,
      "rowLimit": 10000
     },
     "inputWidgets": {},
     "nuid": "68a211fe-f300-4d13-821c-7b185f4d3987",
     "showTitle": false,
     "tableResultSettingsMap": {},
     "title": ""
    }
   },
   "outputs": [],
   "source": [
    "\n",
    "create or replace table silver.dim_state_staging_st1_sc1\n",
    "select distinct productgroup_name,product_name from silver.daily_pricing_silver\n",
    "where record_updated_date > (\n",
    "      select nvl(max(process_file_updated_date),'2010-01-01') from uc_prod.watermark_tbl.process_logs \n",
    "      where process_name = 'reporting_dim_product_gold_scd1' and process_status ='completed'\n",
    "                            )\n"
   ]
  },
  {
   "cell_type": "markdown",
   "metadata": {
    "application/vnd.databricks.v1+cell": {
     "cellMetadata": {
      "byteLimit": 2048000,
      "rowLimit": 10000
     },
     "inputWidgets": {},
     "nuid": "f3494789-b3b7-4333-9b12-c5dccc0a5c6f",
     "showTitle": false,
     "tableResultSettingsMap": {},
     "title": ""
    }
   },
   "source": [
    "### Add the distinct unique id for the state items"
   ]
  },
  {
   "cell_type": "markdown",
   "metadata": {
    "application/vnd.databricks.v1+cell": {
     "cellMetadata": {
      "byteLimit": 2048000,
      "rowLimit": 10000
     },
     "inputWidgets": {},
     "nuid": "9f09cba4-874d-4859-8620-9f7462ab6274",
     "showTitle": false,
     "tableResultSettingsMap": {},
     "title": ""
    }
   },
   "source": []
  },
  {
   "cell_type": "code",
   "execution_count": 0,
   "metadata": {
    "application/vnd.databricks.v1+cell": {
     "cellMetadata": {
      "byteLimit": 2048000,
      "rowLimit": 10000
     },
     "inputWidgets": {},
     "nuid": "de5c799e-8889-42b8-a9ee-3e359ae28bc7",
     "showTitle": false,
     "tableResultSettingsMap": {},
     "title": ""
    }
   },
   "outputs": [],
   "source": [
    "create or replace table silver.dim_state_staging_st2\n",
    "select \n",
    "st1.product_name,st1.productgroup_name,\n",
    "gpr.PRODUCT_ID as gold_product_id,\n",
    "case when gpr.PRODUCT_NAME is null \n",
    "  then row_number()over(order by st1.productgroup_name,st1.product_name) \n",
    "  else gpr.product_id end as rn_num\n",
    "from silver.dim_state_staging_st1_sc1 as st1\n",
    "left join gold.reporting_dim_product_gold as gpr\n",
    "on lower(gpr.PRODUCT_NAME) = lower(st1.product_name)\n",
    "where gpr.PRODUCT_NAME is null or st1.productgroup_name <> gpr.PRODUCTGROUP_NAME\n"
   ]
  },
  {
   "cell_type": "code",
   "execution_count": 0,
   "metadata": {
    "application/vnd.databricks.v1+cell": {
     "cellMetadata": {
      "byteLimit": 2048000,
      "rowLimit": 10000
     },
     "inputWidgets": {},
     "nuid": "a30666fc-7ff7-4b7b-82a0-b3fd7e805661",
     "showTitle": false,
     "tableResultSettingsMap": {},
     "title": ""
    }
   },
   "outputs": [],
   "source": [
    "create or replace table silver.dim_state_staging_st3\n",
    "select \n",
    "case when t.gold_product_id is null \n",
    "  then (t.rn_num+s.max_flag) \n",
    "  else t.gold_product_id end as product_id,\n",
    "t.product_name as product_name,\n",
    "t.productgroup_name as productgroup_name\n",
    ",current_timestamp() as lakehouse_inserted_date,\n",
    "current_timestamp() as lakehouse_updated_date\n",
    "from silver.dim_state_staging_st2 as t\n",
    "cross join (select nvl(max(PRODUCT_ID),0) as max_flag from gold.reporting_dim_product_gold ) as s"
   ]
  },
  {
   "cell_type": "code",
   "execution_count": 0,
   "metadata": {
    "application/vnd.databricks.v1+cell": {
     "cellMetadata": {
      "byteLimit": 2048000,
      "rowLimit": 10000
     },
     "inputWidgets": {},
     "nuid": "1a88ced4-0449-4ec2-9cff-cad937a8eff1",
     "showTitle": false,
     "tableResultSettingsMap": {},
     "title": ""
    }
   },
   "outputs": [],
   "source": [
    "merge into gold.reporting_dim_product_gold as tgt\n",
    "using (\n",
    "select * from silver.dim_state_staging_st3 as t\n",
    ") as src\n",
    "on tgt.PRODUCT_ID = src.product_id\n",
    "when matched then update \n",
    "  set tgt.lakehouse_updated_date = current_timestamp(),\n",
    "      tgt.PRODUCT_NAME  = src.PRODUCT_NAME,\n",
    "      tgt.PRODUCTGROUP_NAME = src.productgroup_name\n",
    "when not matched then  \n",
    "  insert (\n",
    "      PRODUCT_ID,\n",
    "      PRODUCT_NAME,\n",
    "      PRODUCTGROUP_NAME,\n",
    "      lakehouse_inserted_date,\n",
    "      lakehouse_updated_date\n",
    "         )\n",
    "  values\n",
    "        (\n",
    "        src.product_id,\n",
    "        src.product_name,\n",
    "        src.productgroup_name,\n",
    "        src.lakehouse_inserted_date,\n",
    "        src.lakehouse_updated_date\n",
    "        )\n"
   ]
  },
  {
   "cell_type": "markdown",
   "metadata": {
    "application/vnd.databricks.v1+cell": {
     "cellMetadata": {
      "byteLimit": 2048000,
      "rowLimit": 10000
     },
     "inputWidgets": {},
     "nuid": "1117d248-3398-4ef9-9461-f9ee9125d751",
     "showTitle": false,
     "tableResultSettingsMap": {},
     "title": ""
    }
   },
   "source": [
    "### update the water mark table"
   ]
  },
  {
   "cell_type": "code",
   "execution_count": 0,
   "metadata": {
    "application/vnd.databricks.v1+cell": {
     "cellMetadata": {
      "byteLimit": 2048000,
      "rowLimit": 10000
     },
     "inputWidgets": {},
     "nuid": "49d22c77-9256-41e2-b363-0f14b187e796",
     "showTitle": false,
     "tableResultSettingsMap": {},
     "title": ""
    }
   },
   "outputs": [],
   "source": [
    "insert into uc_prod.watermark_tbl.process_logs\n",
    "(Process_name,Process_file_updated_date,process_status)\n",
    "values\n",
    "(\n",
    "'reporting_dim_product_gold_scd1',\n",
    "current_timestamp(),\n",
    "'completed'\n",
    ")"
   ]
  },
  {
   "cell_type": "code",
   "execution_count": 0,
   "metadata": {
    "application/vnd.databricks.v1+cell": {
     "cellMetadata": {
      "byteLimit": 2048000,
      "rowLimit": 10000
     },
     "inputWidgets": {},
     "nuid": "6383264b-946c-47f2-ba48-61ac656b1a78",
     "showTitle": false,
     "tableResultSettingsMap": {},
     "title": ""
    }
   },
   "outputs": [],
   "source": [
    "-- truncate table uc_prod.gold.reporting_dim_product_gold;\n",
    "-- delete from uc_prod.watermark_tbl.process_logs where process_name = 'reporting_dim_product_gold_scd1'\n"
   ]
  }
 ],
 "metadata": {
  "application/vnd.databricks.v1+notebook": {
   "computePreferences": null,
   "dashboards": [],
   "environmentMetadata": {
    "base_environment": "",
    "environment_version": "2"
   },
   "inputWidgetPreferences": null,
   "language": "sql",
   "notebookMetadata": {
    "pythonIndentUnit": 4
   },
   "notebookName": "03_1_SCD_reporting_dim_product_gold",
   "widgets": {}
  },
  "language_info": {
   "name": "sql"
  }
 },
 "nbformat": 4,
 "nbformat_minor": 0
}
