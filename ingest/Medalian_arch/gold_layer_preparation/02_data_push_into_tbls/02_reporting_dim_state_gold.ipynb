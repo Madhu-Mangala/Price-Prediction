{
 "cells": [
  {
   "cell_type": "code",
   "execution_count": 0,
   "metadata": {
    "application/vnd.databricks.v1+cell": {
     "cellMetadata": {
      "byteLimit": 2048000,
      "rowLimit": 10000
     },
     "inputWidgets": {},
     "nuid": "a284d646-06f2-4ecc-9c19-0be0ae5ca48c",
     "showTitle": false,
     "tableResultSettingsMap": {},
     "title": ""
    }
   },
   "outputs": [],
   "source": [
    "use catalog uc_prod"
   ]
  },
  {
   "cell_type": "markdown",
   "metadata": {
    "application/vnd.databricks.v1+cell": {
     "cellMetadata": {
      "byteLimit": 2048000,
      "rowLimit": 10000
     },
     "inputWidgets": {},
     "nuid": "283f7c10-7384-4b2d-a9d2-ccabab067e67",
     "showTitle": false,
     "tableResultSettingsMap": {},
     "title": ""
    }
   },
   "source": [
    "### Getting the distinct states from the staing master table (silver.daily_pricing_silver)"
   ]
  },
  {
   "cell_type": "code",
   "execution_count": 0,
   "metadata": {
    "application/vnd.databricks.v1+cell": {
     "cellMetadata": {
      "byteLimit": 2048000,
      "rowLimit": 10000
     },
     "inputWidgets": {},
     "nuid": "68a211fe-f300-4d13-821c-7b185f4d3987",
     "showTitle": false,
     "tableResultSettingsMap": {},
     "title": ""
    }
   },
   "outputs": [],
   "source": [
    "create or replace table silver.dim_state_staging_st1\n",
    "select distinct state_name from silver.daily_pricing_silver\n",
    "where record_updated_date > (\n",
    "      select nvl(max(process_file_updated_date),'2010-01-01') from uc_prod.watermark_tbl.process_logs \n",
    "      where process_name = 'reporting_dim_state_gold' and process_status ='completed'\n",
    "                            )\n"
   ]
  },
  {
   "cell_type": "markdown",
   "metadata": {
    "application/vnd.databricks.v1+cell": {
     "cellMetadata": {
      "byteLimit": 2048000,
      "rowLimit": 10000
     },
     "inputWidgets": {},
     "nuid": "f3494789-b3b7-4333-9b12-c5dccc0a5c6f",
     "showTitle": false,
     "tableResultSettingsMap": {},
     "title": ""
    }
   },
   "source": [
    "### Add the distinct unique id for the state items"
   ]
  },
  {
   "cell_type": "markdown",
   "metadata": {
    "application/vnd.databricks.v1+cell": {
     "cellMetadata": {},
     "inputWidgets": {},
     "nuid": "9f09cba4-874d-4859-8620-9f7462ab6274",
     "showTitle": false,
     "tableResultSettingsMap": {},
     "title": ""
    }
   },
   "source": []
  },
  {
   "cell_type": "code",
   "execution_count": 0,
   "metadata": {
    "application/vnd.databricks.v1+cell": {
     "cellMetadata": {
      "byteLimit": 2048000,
      "rowLimit": 10000
     },
     "inputWidgets": {},
     "nuid": "de5c799e-8889-42b8-a9ee-3e359ae28bc7",
     "showTitle": false,
     "tableResultSettingsMap": {},
     "title": ""
    }
   },
   "outputs": [],
   "source": [
    "create or replace table uc_prod.silver.dim_state_gold_st_2\n",
    "select s.state_name, \n",
    "case when t.state_id is null \n",
    "  then row_number() over(order by s.state_name) \n",
    "  else t.state_id end as state_ID_st2\n",
    ",t.state_id as gold_state_id\n",
    "from uc_prod.silver.dim_state_staging_st1 s\n",
    "left join gold.reporting_dim_state_gold t\n",
    "on t.state_name = s.state_name\n",
    "where t.state_name is null or t.state_id is not null"
   ]
  },
  {
   "cell_type": "code",
   "execution_count": 0,
   "metadata": {
    "application/vnd.databricks.v1+cell": {
     "cellMetadata": {
      "byteLimit": 2048000,
      "rowLimit": 10000
     },
     "inputWidgets": {},
     "nuid": "7e08268c-f835-48cd-8cfa-674092f85d9f",
     "showTitle": false,
     "tableResultSettingsMap": {},
     "title": ""
    }
   },
   "outputs": [],
   "source": [
    "create or replace table uc_prod.silver.dim_state_gold_st_3\n",
    "select \n",
    "state_name,\n",
    "case when  src.gold_state_id is null\n",
    "then (src.state_ID_st2+max_id) \n",
    "else  src.gold_state_id end as STATE_ID,\n",
    "current_timestamp() as lakehouse_inserted_date,\n",
    "current_timestamp() as lakehouse_updated_date \n",
    "from uc_prod.silver.dim_state_gold_st_2 as src\n",
    "cross join (select nvl(max(STATE_ID),0) as max_id from uc_prod.gold.reporting_dim_state_gold)"
   ]
  },
  {
   "cell_type": "code",
   "execution_count": 0,
   "metadata": {
    "application/vnd.databricks.v1+cell": {
     "cellMetadata": {
      "byteLimit": 2048000,
      "rowLimit": 10000
     },
     "inputWidgets": {},
     "nuid": "1a88ced4-0449-4ec2-9cff-cad937a8eff1",
     "showTitle": false,
     "tableResultSettingsMap": {},
     "title": ""
    }
   },
   "outputs": [],
   "source": [
    "merge into gold.reporting_dim_state_gold as tgt\n",
    "using uc_prod.silver.dim_state_gold_st_3 as src\n",
    "on tgt.STATE_ID = src.STATE_ID\n",
    "when matched then update \n",
    "  set tgt.lakehouse_updated_date = current_timestamp()\n",
    "when not matched then  \n",
    "  insert (State_ID,STATE_NAME,lakehouse_inserted_date,lakehouse_updated_date)\n",
    "  values\n",
    "  (src.STATE_ID,src.STATE_NAME,src.lakehouse_inserted_date,src.lakehouse_updated_date)"
   ]
  },
  {
   "cell_type": "markdown",
   "metadata": {
    "application/vnd.databricks.v1+cell": {
     "cellMetadata": {
      "byteLimit": 2048000,
      "rowLimit": 10000
     },
     "inputWidgets": {},
     "nuid": "1117d248-3398-4ef9-9461-f9ee9125d751",
     "showTitle": false,
     "tableResultSettingsMap": {},
     "title": ""
    }
   },
   "source": [
    "### update the water mark table"
   ]
  },
  {
   "cell_type": "code",
   "execution_count": 0,
   "metadata": {
    "application/vnd.databricks.v1+cell": {
     "cellMetadata": {
      "byteLimit": 2048000,
      "rowLimit": 10000
     },
     "inputWidgets": {},
     "nuid": "49d22c77-9256-41e2-b363-0f14b187e796",
     "showTitle": false,
     "tableResultSettingsMap": {},
     "title": ""
    }
   },
   "outputs": [],
   "source": [
    "insert into uc_prod.watermark_tbl.process_logs\n",
    "(Process_name,Process_file_updated_date,process_status)\n",
    "values\n",
    "(\n",
    "'reporting_dim_state_gold',\n",
    "current_timestamp(),\n",
    "'completed'\n",
    ")"
   ]
  }
 ],
 "metadata": {
  "application/vnd.databricks.v1+notebook": {
   "computePreferences": null,
   "dashboards": [],
   "environmentMetadata": {
    "base_environment": "",
    "environment_version": "2"
   },
   "inputWidgetPreferences": null,
   "language": "sql",
   "notebookMetadata": {
    "pythonIndentUnit": 4
   },
   "notebookName": "02_reporting_dim_state_gold",
   "widgets": {}
  },
  "language_info": {
   "name": "sql"
  }
 },
 "nbformat": 4,
 "nbformat_minor": 0
}
