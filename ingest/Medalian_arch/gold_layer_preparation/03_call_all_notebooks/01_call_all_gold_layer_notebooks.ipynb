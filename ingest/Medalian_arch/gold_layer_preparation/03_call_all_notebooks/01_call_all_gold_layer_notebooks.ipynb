{
 "cells": [
  {
   "cell_type": "code",
   "execution_count": 0,
   "metadata": {
    "application/vnd.databricks.v1+cell": {
     "cellMetadata": {},
     "inputWidgets": {},
     "nuid": "24877704-b023-4666-9e8f-fe1357dcc6e6",
     "showTitle": false,
     "tableResultSettingsMap": {},
     "title": ""
    }
   },
   "outputs": [],
   "source": [
    "dbutils.notebook.run(\"/Workspace/Users/s.pavankumar1315@gmail.com/Medalian_arch/gold_layer_preparation/02_data_push_into_tbls/01_reporting_dim_market_gold\", timeout_seconds=0)"
   ]
  },
  {
   "cell_type": "code",
   "execution_count": 0,
   "metadata": {
    "application/vnd.databricks.v1+cell": {
     "cellMetadata": {},
     "inputWidgets": {},
     "nuid": "32c82270-4b09-408a-8ef6-e7b8323c21df",
     "showTitle": false,
     "tableResultSettingsMap": {},
     "title": ""
    }
   },
   "outputs": [],
   "source": [
    "dbutils.notebook.run(\"/Workspace/Users/s.pavankumar1315@gmail.com/Medalian_arch/gold_layer_preparation/02_data_push_into_tbls/02_reporting_dim_state_gold\", timeout_seconds=0)"
   ]
  },
  {
   "cell_type": "code",
   "execution_count": 0,
   "metadata": {
    "application/vnd.databricks.v1+cell": {
     "cellMetadata": {},
     "inputWidgets": {},
     "nuid": "7b7ef24f-e025-4da2-b5a6-a0ebebc5c482",
     "showTitle": false,
     "tableResultSettingsMap": {},
     "title": ""
    }
   },
   "outputs": [],
   "source": [
    "dbutils.notebook.run(\"/Workspace/Users/s.pavankumar1315@gmail.com/Medalian_arch/gold_layer_preparation/02_data_push_into_tbls/03_1_SCD_reporting_dim_product_gold\", timeout_seconds=0)"
   ]
  },
  {
   "cell_type": "code",
   "execution_count": 0,
   "metadata": {
    "application/vnd.databricks.v1+cell": {
     "cellMetadata": {},
     "inputWidgets": {},
     "nuid": "ba4724eb-789a-4ed8-9685-8391af53d8b2",
     "showTitle": false,
     "tableResultSettingsMap": {},
     "title": ""
    }
   },
   "outputs": [],
   "source": [
    "dbutils.notebook.run(\"/Workspace/Users/s.pavankumar1315@gmail.com/Medalian_arch/gold_layer_preparation/02_data_push_into_tbls/04_reporting_dim_variety_gold\", timeout_seconds=0)"
   ]
  },
  {
   "cell_type": "code",
   "execution_count": 0,
   "metadata": {
    "application/vnd.databricks.v1+cell": {
     "cellMetadata": {
      "byteLimit": 2048000,
      "implicitDf": true,
      "rowLimit": 10000
     },
     "inputWidgets": {},
     "nuid": "9426b523-da38-4264-a71c-b77468676ce8",
     "showTitle": false,
     "tableResultSettingsMap": {},
     "title": ""
    }
   },
   "outputs": [],
   "source": [
    "%sql\n",
    "-- truncate table uc_prod.gold.reporting_dim_market_gold;\n",
    "-- truncate table uc_prod.gold.reporting_dim_state_gold;\n",
    "-- truncate table uc_prod.gold.reporting_dim_variety_gold;\n",
    "-- truncate table uc_prod.gold.reporting_dim_product_gold;\n"
   ]
  }
 ],
 "metadata": {
  "application/vnd.databricks.v1+notebook": {
   "computePreferences": null,
   "dashboards": [],
   "environmentMetadata": {
    "base_environment": "",
    "environment_version": "2"
   },
   "inputWidgetPreferences": null,
   "language": "python",
   "notebookMetadata": {
    "mostRecentlyExecutedCommandWithImplicitDF": {
     "commandId": 6771011561446123,
     "dataframes": [
      "_sqldf"
     ]
    },
    "pythonIndentUnit": 4
   },
   "notebookName": "01_call_all_gold_layer_notebooks",
   "widgets": {}
  },
  "language_info": {
   "name": "python"
  }
 },
 "nbformat": 4,
 "nbformat_minor": 0
}
