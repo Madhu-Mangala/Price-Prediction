{
 "cells": [
  {
   "cell_type": "markdown",
   "metadata": {
    "application/vnd.databricks.v1+cell": {
     "cellMetadata": {
      "byteLimit": 2048000,
      "rowLimit": 10000
     },
     "inputWidgets": {},
     "nuid": "945bf1c0-2833-47ad-b130-794105fa2af1",
     "showTitle": false,
     "tableResultSettingsMap": {},
     "title": ""
    }
   },
   "source": [
    "### Prepare the Silver table as Staging"
   ]
  },
  {
   "cell_type": "code",
   "execution_count": 0,
   "metadata": {
    "application/vnd.databricks.v1+cell": {
     "cellMetadata": {
      "byteLimit": 2048000,
      "rowLimit": 10000
     },
     "inputWidgets": {},
     "nuid": "c9eabc50-9cdb-4bc0-89c0-a6df2be4aa14",
     "showTitle": false,
     "tableResultSettingsMap": {},
     "title": ""
    }
   },
   "outputs": [],
   "source": [
    "use catalog uc_prod"
   ]
  },
  {
   "cell_type": "code",
   "execution_count": 0,
   "metadata": {
    "application/vnd.databricks.v1+cell": {
     "cellMetadata": {
      "byteLimit": 2048000,
      "rowLimit": 10000
     },
     "inputWidgets": {},
     "nuid": "ece031a4-8efc-4edf-94e2-81dc93001ebe",
     "showTitle": false,
     "tableResultSettingsMap": {},
     "title": ""
    }
   },
   "outputs": [],
   "source": [
    "-- CREATE TABLE uc_prod.silver.daily_pricing_silver (\n",
    "--     date_of_pricing DATE,\n",
    "--     row_id INT,\n",
    "--     state_name STRING,\n",
    "--     market_name STRING,\n",
    "--     productgroup_name STRING,\n",
    "--     product_name STRING,\n",
    "--     variety STRING,\n",
    "--     origin STRING,\n",
    "--     arrival_in_tonnes DECIMAL(20,2),\n",
    "--     minimum_price DECIMAL(20,2),\n",
    "--     maximum_price DECIMAL(20,2),\n",
    "--     modal_price DECIMAL(20,2),\n",
    "--     file_arrival_date TIMESTAMP,\n",
    "--     record_inserted_date TIMESTAMP,\n",
    "--     record_updated_date TIMESTAMP\n",
    "-- );\n"
   ]
  },
  {
   "cell_type": "code",
   "execution_count": 0,
   "metadata": {
    "application/vnd.databricks.v1+cell": {
     "cellMetadata": {
      "byteLimit": 2048000,
      "rowLimit": 10000
     },
     "inputWidgets": {},
     "nuid": "e898a29c-158a-44ff-b60b-f6873d0b89d4",
     "showTitle": false,
     "tableResultSettingsMap": {},
     "title": ""
    }
   },
   "outputs": [],
   "source": [
    "truncate table uc_prod.silver.daily_pricing_silver;\n",
    "-- delete from uc_prod.watermark_tbl.process_logs where Process_name = 'staging_table_insert' and process_status = 'completed'"
   ]
  },
  {
   "cell_type": "code",
   "execution_count": 0,
   "metadata": {
    "application/vnd.databricks.v1+cell": {
     "cellMetadata": {
      "byteLimit": 2048000,
      "rowLimit": 10000
     },
     "inputWidgets": {},
     "nuid": "cc94b859-0f23-430e-8918-e3799e0ab0e2",
     "showTitle": false,
     "tableResultSettingsMap": {},
     "title": ""
    }
   },
   "outputs": [],
   "source": [
    "-- select * from uc_prod.bronze.daily_pricing_tbl limit 10"
   ]
  },
  {
   "cell_type": "code",
   "execution_count": 0,
   "metadata": {
    "application/vnd.databricks.v1+cell": {
     "cellMetadata": {
      "byteLimit": 2048000,
      "rowLimit": 10000
     },
     "inputWidgets": {},
     "nuid": "518e788c-3180-4899-9c73-ba2a6bd8e145",
     "showTitle": false,
     "tableResultSettingsMap": {},
     "title": ""
    }
   },
   "outputs": [],
   "source": [
    "insert into uc_prod.silver.daily_pricing_silver\n",
    "select \n",
    "to_date(date_of_pricing, 'dd/MM/yyyy') AS date_of_pricing,\n",
    "cast(ROW_ID as int),\n",
    "STATE_NAME,\n",
    "MARKET_NAME,\n",
    "PRODUCTGROUP_NAME,\n",
    "PRODUCT_NAME,\n",
    "VARIETY,\n",
    "ORIGIN,\n",
    "cast(ARRIVAL_IN_TONNES as decimal(20,2)),\n",
    "cast(MINIMUM_PRICE as decimal(20,2)),\n",
    "cast(MAXIMUM_PRICE as decimal(20,2)),\n",
    "cast(MODAL_PRICE as decimal(20,2)),\n",
    "file_arrival_date,\n",
    "current_timestamp() as record_inserted_date,\n",
    "current_timestamp() as record_updated_date\n",
    "from \n",
    "uc_prod.bronze.daily_pricing_tbl\n",
    "where file_arrival_date > (\n",
    "  select nvl(max(process_file_date),'1900-01-01') from uc_prod.watermark_tbl.process_logs\n",
    "  where Process_name = 'staging_table_insert' and process_status = 'completed'\n",
    ")"
   ]
  },
  {
   "cell_type": "markdown",
   "metadata": {
    "application/vnd.databricks.v1+cell": {
     "cellMetadata": {
      "byteLimit": 2048000,
      "rowLimit": 10000
     },
     "inputWidgets": {},
     "nuid": "51e4196d-af28-40a2-9295-5072b3405b95",
     "showTitle": false,
     "tableResultSettingsMap": {},
     "title": ""
    }
   },
   "source": []
  },
  {
   "cell_type": "code",
   "execution_count": 0,
   "metadata": {
    "application/vnd.databricks.v1+cell": {
     "cellMetadata": {
      "byteLimit": 2048000,
      "rowLimit": 10000
     },
     "inputWidgets": {},
     "nuid": "8a0c7783-237e-480b-9d1f-470667a279a5",
     "showTitle": false,
     "tableResultSettingsMap": {},
     "title": ""
    }
   },
   "outputs": [],
   "source": [
    "-- delete from uc_prod.watermark_tbl.process_logs where Process_name = 'staging_table_insert' and process_status = 'completed'"
   ]
  },
  {
   "cell_type": "code",
   "execution_count": 0,
   "metadata": {
    "application/vnd.databricks.v1+cell": {
     "cellMetadata": {
      "byteLimit": 2048000,
      "rowLimit": 10000
     },
     "inputWidgets": {},
     "nuid": "9ab817cd-ed5e-4121-b32b-2b93e2165e8f",
     "showTitle": false,
     "tableResultSettingsMap": {},
     "title": ""
    }
   },
   "outputs": [],
   "source": [
    "insert into uc_prod.watermark_tbl.process_logs\n",
    "(Process_name, Process_file_date,process_status)\n",
    "select 'staging_table_insert',current_timestamp(),'completed'\n",
    "from uc_prod.bronze.daily_pricing_tbl\n"
   ]
  },
  {
   "cell_type": "markdown",
   "metadata": {
    "application/vnd.databricks.v1+cell": {
     "cellMetadata": {
      "byteLimit": 2048000,
      "rowLimit": 10000
     },
     "inputWidgets": {},
     "nuid": "6f955270-1e6a-4653-8c11-14066d5fdb31",
     "showTitle": false,
     "tableResultSettingsMap": {},
     "title": ""
    }
   },
   "source": [
    "### Testing the duplicate entry"
   ]
  }
 ],
 "metadata": {
  "application/vnd.databricks.v1+notebook": {
   "computePreferences": null,
   "dashboards": [],
   "environmentMetadata": {
    "base_environment": "",
    "environment_version": "2"
   },
   "inputWidgetPreferences": null,
   "language": "sql",
   "notebookMetadata": {
    "pythonIndentUnit": 4
   },
   "notebookName": "01_prepare_Staging_table",
   "widgets": {}
  },
  "language_info": {
   "name": "sql"
  }
 },
 "nbformat": 4,
 "nbformat_minor": 0
}
