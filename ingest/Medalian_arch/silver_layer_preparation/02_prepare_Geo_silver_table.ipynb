{
 "cells": [
  {
   "cell_type": "code",
   "execution_count": 0,
   "metadata": {
    "application/vnd.databricks.v1+cell": {
     "cellMetadata": {
      "byteLimit": 2048000,
      "rowLimit": 10000
     },
     "inputWidgets": {},
     "nuid": "f6694bbd-f8c3-405f-a3a4-7d018136230c",
     "showTitle": false,
     "tableResultSettingsMap": {},
     "title": ""
    }
   },
   "outputs": [],
   "source": [
    "from pyspark.sql.types import *\n",
    "from pyspark.sql.functions import *"
   ]
  },
  {
   "cell_type": "code",
   "execution_count": 0,
   "metadata": {
    "application/vnd.databricks.v1+cell": {
     "cellMetadata": {
      "byteLimit": 2048000,
      "rowLimit": 10000
     },
     "inputWidgets": {},
     "nuid": "6f0e1aef-f17f-4c16-860a-2592aa27a453",
     "showTitle": false,
     "tableResultSettingsMap": {},
     "title": ""
    }
   },
   "outputs": [],
   "source": [
    "# source_data = 'https://geocoding-api.open-meteo.com/v1/search?name=kovilpatti&count=10&language=en&format=json'\n",
    "source_base_url = 'https://geocoding-api.open-meteo.com/v1/search?name='\n",
    "source_relative_url = '&count=10&language=en&format=json'\n",
    "sink_layer = 'bronze'\n",
    "sink_folder = 'geo-data'\n",
    "sink_account_name ='madhupavanadls'\n",
    "destination_location = f'abfss://{sink_layer}@{sink_account_name}.dfs.core.windows.net/{sink_folder}'"
   ]
  },
  {
   "cell_type": "markdown",
   "metadata": {
    "application/vnd.databricks.v1+cell": {
     "cellMetadata": {
      "byteLimit": 2048000,
      "rowLimit": 10000
     },
     "inputWidgets": {},
     "nuid": "49d7a0ba-3449-4b58-8dee-428fdff22bcf",
     "showTitle": false,
     "tableResultSettingsMap": {},
     "title": ""
    }
   },
   "source": [
    "### Read the data from source"
   ]
  },
  {
   "cell_type": "code",
   "execution_count": 0,
   "metadata": {
    "application/vnd.databricks.v1+cell": {
     "cellMetadata": {
      "byteLimit": 2048000,
      "rowLimit": 10000
     },
     "inputWidgets": {},
     "nuid": "55acb596-fe04-4421-bb8b-16b4a684a9ca",
     "showTitle": false,
     "tableResultSettingsMap": {},
     "title": ""
    }
   },
   "outputs": [],
   "source": [
    "geo_df = spark.read.format('json').load(destination_location)\n",
    "# geo_df.limit(10).display()"
   ]
  },
  {
   "cell_type": "code",
   "execution_count": 0,
   "metadata": {
    "application/vnd.databricks.v1+cell": {
     "cellMetadata": {
      "byteLimit": 2048000,
      "rowLimit": 10000
     },
     "inputWidgets": {},
     "nuid": "28fc8ea6-bd27-4744-9a9d-b4c2b5a9eab3",
     "showTitle": false,
     "tableResultSettingsMap": {},
     "title": ""
    }
   },
   "outputs": [],
   "source": [
    "geo_df.limit(10).display()"
   ]
  },
  {
   "cell_type": "code",
   "execution_count": 0,
   "metadata": {
    "application/vnd.databricks.v1+cell": {
     "cellMetadata": {
      "byteLimit": 2048000,
      "rowLimit": 10000
     },
     "inputWidgets": {},
     "nuid": "ad7c1dd1-89ae-4e88-a2fb-19884193e675",
     "showTitle": false,
     "tableResultSettingsMap": {},
     "title": ""
    }
   },
   "outputs": [],
   "source": [
    "limit_col_geo = geo_df.select(\n",
    "    col('results.admin1').alias('state_name'),\n",
    "    col('results.admin2').alias('district_name'),\n",
    "    col('results.country').alias('country_name'),\n",
    "    col('results.name').alias('market_name'),\n",
    "    col('results.latitude').alias('latitude'),\n",
    "    col('results.longitude').alias('longitude'),\n",
    "    col('results.population').alias('population')\n",
    "    )\n",
    "    "
   ]
  },
  {
   "cell_type": "code",
   "execution_count": 0,
   "metadata": {
    "application/vnd.databricks.v1+cell": {
     "cellMetadata": {
      "byteLimit": 2048000,
      "rowLimit": 10000
     },
     "inputWidgets": {},
     "nuid": "92d01d42-b7cf-4369-80a0-b640dc982260",
     "showTitle": false,
     "tableResultSettingsMap": {},
     "title": ""
    }
   },
   "outputs": [],
   "source": [
    "# Explode each column with position index\n",
    "state_df      = limit_col_geo.select(explode(\"state_name\").alias(\"state_name\"),\n",
    "                                     monotonically_increasing_id().alias(\"statesequenceID\")\n",
    "                                     )\n",
    "district_df   = limit_col_geo.select(explode(\"district_name\").alias( \"district_name\"),\n",
    "                                      monotonically_increasing_id().alias(\"districtsequenceID\"))\n",
    "country_df    = limit_col_geo.select(explode(\"country_name\").alias(\"country_name\"),\n",
    "                                      monotonically_increasing_id().alias(\"countrysequenceID\"))\n",
    "market_df     = limit_col_geo.select(explode(\"market_name\").alias(\"market_name\"), monotonically_increasing_id().alias(\"marketsequenceID\"))\n",
    "latitude_df   = limit_col_geo.select(explode(\"latitude\").alias(\"latitude\"), monotonically_increasing_id().alias(\"latitudesequenceID\"))\n",
    "longitude_df  = limit_col_geo.select(explode(\"longitude\").alias(\"longitude\"), monotonically_increasing_id().alias(\"longitudesequenceID\"))\n",
    "population_df = limit_col_geo.select(explode(\"population\").alias(\"population\"), monotonically_increasing_id().alias(\"populationsequenceID\"))\n",
    "\n",
    "# Join all DataFrames on position index\n",
    "final_df = state_df \\\n",
    "    .join(district_df, col('statesequenceID') == col('districtsequenceID')) \\\n",
    "    .join(country_df, col('statesequenceID') == col('countrysequenceID')) \\\n",
    "    .join(market_df, col('statesequenceID') == col('marketsequenceID')) \\\n",
    "    .join(latitude_df,col('statesequenceID') == col('latitudesequenceID')) \\\n",
    "    .join(longitude_df, col('statesequenceID') == col('longitudesequenceID')) \\\n",
    "    .join(population_df, col('statesequenceID') == col('populationsequenceID')) \\\n",
    "    .select(col('state_name'),col('district_name'),col('country_name') , col('market_name'),col('latitude'),col('longitude'),col('population'))\n",
    "# final_df.limit(10).display()\n",
    "# Show final result\n"
   ]
  },
  {
   "cell_type": "markdown",
   "metadata": {
    "application/vnd.databricks.v1+cell": {
     "cellMetadata": {
      "byteLimit": 2048000,
      "rowLimit": 10000
     },
     "inputWidgets": {},
     "nuid": "1dd12b52-2245-4e25-8d21-1dedb9a7756a",
     "showTitle": false,
     "tableResultSettingsMap": {},
     "title": ""
    }
   },
   "source": [
    "### writing the data into silver layer"
   ]
  },
  {
   "cell_type": "code",
   "execution_count": 0,
   "metadata": {
    "application/vnd.databricks.v1+cell": {
     "cellMetadata": {
      "byteLimit": 2048000,
      "rowLimit": 10000
     },
     "inputWidgets": {},
     "nuid": "8fdd3811-d76c-43e7-8425-478d0f2c2bdc",
     "showTitle": false,
     "tableResultSettingsMap": {},
     "title": ""
    }
   },
   "outputs": [],
   "source": [
    "final_df.write \\\n",
    "    .mode('overwrite') \\\n",
    "    .option(\"overwriteSchema\", \"true\") \\\n",
    "    .format(\"delta\") \\\n",
    "    .saveAsTable(\"uc_prod.silver.geo_location_silver\")\n"
   ]
  },
  {
   "cell_type": "code",
   "execution_count": 0,
   "metadata": {
    "application/vnd.databricks.v1+cell": {
     "cellMetadata": {
      "byteLimit": 2048000,
      "implicitDf": true,
      "rowLimit": 10000
     },
     "inputWidgets": {},
     "nuid": "174fdabc-3870-493d-9ab7-75dff38c9331",
     "showTitle": false,
     "tableResultSettingsMap": {},
     "title": ""
    }
   },
   "outputs": [],
   "source": [
    "# %sql\n",
    "# select * from uc_prod.silver.geo_location_silver as gls\n",
    "# join uc_prod.silver.daily_pricing_silver as dps on gls.market_name = dps.market_name"
   ]
  }
 ],
 "metadata": {
  "application/vnd.databricks.v1+notebook": {
   "computePreferences": null,
   "dashboards": [],
   "environmentMetadata": {
    "base_environment": "",
    "environment_version": "2"
   },
   "inputWidgetPreferences": null,
   "language": "python",
   "notebookMetadata": {
    "mostRecentlyExecutedCommandWithImplicitDF": {
     "commandId": 4525652087472299,
     "dataframes": [
      "_sqldf"
     ]
    },
    "pythonIndentUnit": 4
   },
   "notebookName": "02_prepare_Geo_silver_table",
   "widgets": {}
  },
  "language_info": {
   "name": "python"
  }
 },
 "nbformat": 4,
 "nbformat_minor": 0
}
