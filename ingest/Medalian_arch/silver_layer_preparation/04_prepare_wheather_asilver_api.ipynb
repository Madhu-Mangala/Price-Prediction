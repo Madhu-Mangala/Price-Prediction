{
 "cells": [
  {
   "cell_type": "markdown",
   "metadata": {
    "application/vnd.databricks.v1+cell": {
     "cellMetadata": {
      "byteLimit": 2048000,
      "rowLimit": 10000
     },
     "inputWidgets": {},
     "nuid": "74e76813-83e2-4822-bf9d-83fd264650ea",
     "showTitle": false,
     "tableResultSettingsMap": {},
     "title": ""
    }
   },
   "source": [
    "%md\n",
    "source API URL : \"https://archive-api.open-meteo.com/v1/archive?latitude=52.52&longitude=13.41&start_date=2023-01-01&end_date=2024-01-01&daily=temperature_2m_max,temperature_2m_min,rain_sum\""
   ]
  },
  {
   "cell_type": "code",
   "execution_count": 0,
   "metadata": {
    "application/vnd.databricks.v1+cell": {
     "cellMetadata": {
      "byteLimit": 2048000,
      "rowLimit": 10000
     },
     "inputWidgets": {},
     "nuid": "7c376a5b-da81-4929-bae6-8011f42caefc",
     "showTitle": false,
     "tableResultSettingsMap": {},
     "title": ""
    }
   },
   "outputs": [],
   "source": [
    "# source_data = 'https://archive-api.open-meteo.com/v1/archive?latitude=52.52&longitude=13.41&start_date=2023-01-01&end_date=2024-01-01&daily=temperature_2m_max,temperature_2m_min,rain_sum'\n",
    "source_base_url = 'https://archive-api.open-meteo.com/v1/archive?latitude='\n",
    "source_relative_url = '&start_date=2023-01-01&end_date=2024-01-01&daily=temperature_2m_max,temperature_2m_min,rain_sum'\n",
    "sink_layer = 'bronze'\n",
    "sink_folder = 'weather-data'\n",
    "sink_account_name ='madhupavanadls'\n",
    "destination_location = f'abfss://{sink_layer}@{sink_account_name}.dfs.core.windows.net/{sink_folder}'"
   ]
  },
  {
   "cell_type": "code",
   "execution_count": 0,
   "metadata": {
    "application/vnd.databricks.v1+cell": {
     "cellMetadata": {
      "byteLimit": 2048000,
      "rowLimit": 10000
     },
     "inputWidgets": {},
     "nuid": "1ee40f18-6ff4-4223-9a0d-762752f7c486",
     "showTitle": false,
     "tableResultSettingsMap": {},
     "title": ""
    }
   },
   "outputs": [],
   "source": [
    "import pandas as pd\n",
    "import numpy as np\n",
    "import requests\n",
    "import json\n",
    "import datetime\n",
    "import time"
   ]
  },
  {
   "cell_type": "code",
   "execution_count": 0,
   "metadata": {
    "application/vnd.databricks.v1+cell": {
     "cellMetadata": {
      "byteLimit": 2048000,
      "rowLimit": 10000
     },
     "inputWidgets": {},
     "nuid": "0df63a19-0082-407e-a022-afeb4eca8aa6",
     "showTitle": false,
     "tableResultSettingsMap": {},
     "title": ""
    }
   },
   "outputs": [],
   "source": [
    "%python\n",
    "Sql_query = '''\n",
    "    select distinct latitude, longitude, market_name \n",
    "    from uc_prod.silver.geo_location_silver\n",
    "    where latitude is not null and longitude is not null\n",
    "    limit 100\n",
    "'''\n",
    "lat_long = spark.sql(Sql_query).collect()\n",
    "\n",
    "weather_data = []\n",
    "\n",
    "for item in lat_long:\n",
    "    latitude = item.latitude\n",
    "    longitude = item.longitude\n",
    "    market_name = item.market_name\n",
    "\n",
    "    source_url = source_base_url + str(latitude) + '&longitude=' + str(longitude) + source_relative_url\n",
    "    response = requests.get(source_url).json()\n",
    "\n",
    "    if isinstance(response, dict):\n",
    "        response['market_name'] = market_name\n",
    "        weather_data.append(response)\n",
    "pd_df = sc.parallelize(weather_data)\n",
    "spark_df = spark.read.json(pd_df)\n",
    "\n",
    "\n",
    "# Save as Delta table\n",
    "spark_df.filter((col(\"latitude\")!= None ) or(col(\"latitude\")!= '')).write.format('delta').mode('overwrite').option('mergeSchema', 'true').save(destination_location)"
   ]
  }
 ],
 "metadata": {
  "application/vnd.databricks.v1+notebook": {
   "computePreferences": null,
   "dashboards": [],
   "environmentMetadata": {
    "base_environment": "",
    "environment_version": "2"
   },
   "inputWidgetPreferences": null,
   "language": "python",
   "notebookMetadata": {
    "mostRecentlyExecutedCommandWithImplicitDF": {
     "commandId": 4525652087472309,
     "dataframes": [
      "_sqldf"
     ]
    },
    "pythonIndentUnit": 4
   },
   "notebookName": "04_prepare_wheather_asilver_api",
   "widgets": {}
  },
  "language_info": {
   "name": "python"
  }
 },
 "nbformat": 4,
 "nbformat_minor": 0
}
