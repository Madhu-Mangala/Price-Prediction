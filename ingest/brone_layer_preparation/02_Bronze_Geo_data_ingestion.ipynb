{
 "cells": [
  {
   "cell_type": "markdown",
   "metadata": {
    "application/vnd.databricks.v1+cell": {
     "cellMetadata": {
      "byteLimit": 2048000,
      "rowLimit": 10000
     },
     "inputWidgets": {},
     "nuid": "d473cab4-0354-4f64-8527-2e1b430ed6ef",
     "showTitle": false,
     "tableResultSettingsMap": {},
     "title": ""
    }
   },
   "source": [
    "source API URL : \"https://geocoding-api.open-meteo.com/v1/search?name=kovilpatti&count=10&language=en&format=json\"\n",
    "\n",
    "JSON Target File Path : \"abfss://working-labs@datalakestorageaccountname.dfs.core.windows.net/bronze/geo-location/"
   ]
  },
  {
   "cell_type": "code",
   "execution_count": 0,
   "metadata": {
    "application/vnd.databricks.v1+cell": {
     "cellMetadata": {
      "byteLimit": 2048000,
      "rowLimit": 10000
     },
     "inputWidgets": {},
     "nuid": "9eaef4c3-6b01-4261-803b-1d5c9da08d7d",
     "showTitle": false,
     "tableResultSettingsMap": {},
     "title": ""
    }
   },
   "outputs": [],
   "source": [
    "from pyspark.sql.types import *\n",
    "from pyspark.sql.functions import *"
   ]
  },
  {
   "cell_type": "markdown",
   "metadata": {
    "application/vnd.databricks.v1+cell": {
     "cellMetadata": {
      "byteLimit": 2048000,
      "rowLimit": 10000
     },
     "inputWidgets": {},
     "nuid": "bad6d831-ece4-48f3-9c95-d0ec43079b13",
     "showTitle": false,
     "tableResultSettingsMap": {},
     "title": ""
    }
   },
   "source": [
    "### source and destination folders"
   ]
  },
  {
   "cell_type": "code",
   "execution_count": 0,
   "metadata": {
    "application/vnd.databricks.v1+cell": {
     "cellMetadata": {
      "byteLimit": 2048000,
      "rowLimit": 10000
     },
     "inputWidgets": {},
     "nuid": "b10651fa-a915-4d47-8d66-0f75e41751b9",
     "showTitle": false,
     "tableResultSettingsMap": {},
     "title": ""
    }
   },
   "outputs": [],
   "source": [
    "# source_data = 'https://geocoding-api.open-meteo.com/v1/search?name=kovilpatti&count=10&language=en&format=json'\n",
    "source_base_url = 'https://geocoding-api.open-meteo.com/v1/search?name='\n",
    "source_relative_url = '&count=10&language=en&format=json'\n",
    "sink_layer = 'bronze'\n",
    "sink_folder = 'geo-data'\n",
    "sink_account_name ='madhupavanadls'\n",
    "destination_location = f'abfss://{sink_layer}@{sink_account_name}.dfs.core.windows.net/{sink_folder}'\n"
   ]
  },
  {
   "cell_type": "code",
   "execution_count": 0,
   "metadata": {
    "application/vnd.databricks.v1+cell": {
     "cellMetadata": {
      "byteLimit": 2048000,
      "rowLimit": 10000
     },
     "inputWidgets": {},
     "nuid": "57acc8b1-2968-4ce2-ad62-c4fb45a97b5d",
     "showTitle": false,
     "tableResultSettingsMap": {},
     "title": ""
    }
   },
   "outputs": [],
   "source": [
    "# schema = StructType([\n",
    "#     StructField(\"id\", IntegerType(), True),\n",
    "#     StructField(\"name\", StringType(), True),\n",
    "#     StructField(\"latitude\", DoubleType(), True),\n",
    "#     StructField(\"longitude\", DoubleType(), True),\n",
    "#     StructField(\"elevation\", IntegerType(), True),\n",
    "#     StructField(\"feature_code\", StringType(), True),\n",
    "#     StructField(\"country_code\", StringType(), True),\n",
    "#     StructField(\"admin1_id\", IntegerType(), True),\n",
    "#     StructField(\"admin2_id\", IntegerType(), True),\n",
    "#     StructField(\"admin3_id\", IntegerType(), True),\n",
    "#     StructField(\"timezone\", StringType(), True),\n",
    "#     StructField(\"population\", IntegerType(), True),\n",
    "#     StructField(\"country_id\", IntegerType(), True),\n",
    "#     StructField(\"country\", StringType(), True),\n",
    "#     StructField(\"admin1\", StringType(), True),\n",
    "#     StructField(\"admin2\", StringType(), True),\n",
    "#     StructField(\"admin3\", StringType(), True)\n",
    "# ])"
   ]
  },
  {
   "cell_type": "code",
   "execution_count": 0,
   "metadata": {
    "application/vnd.databricks.v1+cell": {
     "cellMetadata": {
      "byteLimit": 2048000,
      "rowLimit": 10000
     },
     "inputWidgets": {},
     "nuid": "450a7597-e795-496f-864a-eb46fe5bddcb",
     "showTitle": false,
     "tableResultSettingsMap": {},
     "title": ""
    }
   },
   "outputs": [],
   "source": [
    "full_schema = StructType([\n",
    "    StructField(\"results\", schema, True),\n",
    "    StructField(\"generationtime_ms\", DoubleType(), True)\n",
    "])"
   ]
  },
  {
   "cell_type": "code",
   "execution_count": 0,
   "metadata": {
    "application/vnd.databricks.v1+cell": {
     "cellMetadata": {
      "byteLimit": 2048000,
      "rowLimit": 10000
     },
     "inputWidgets": {},
     "nuid": "6bb3bfb8-414a-481d-827a-4d9014f07398",
     "showTitle": false,
     "tableResultSettingsMap": {},
     "title": ""
    }
   },
   "outputs": [],
   "source": [
    "import requests\n",
    "import json\n",
    "import pandas as pd\n",
    "\n",
    "data = requests.get(source_data).json()\n",
    "pd_df = pd.DataFrame(data)\n",
    "spark_df = spark.createDataFrame(pd_df,full_schema).select(col('results.*'))\n"
   ]
  },
  {
   "cell_type": "markdown",
   "metadata": {
    "application/vnd.databricks.v1+cell": {
     "cellMetadata": {
      "byteLimit": 2048000,
      "rowLimit": 10000
     },
     "inputWidgets": {},
     "nuid": "75086319-fdef-4dab-89e8-cb3d49194da2",
     "showTitle": false,
     "tableResultSettingsMap": {},
     "title": ""
    }
   },
   "source": [
    "### get the market_names from the dim_market_table from gold layer"
   ]
  },
  {
   "cell_type": "code",
   "execution_count": 0,
   "metadata": {
    "application/vnd.databricks.v1+cell": {
     "cellMetadata": {
      "byteLimit": 2048000,
      "implicitDf": true,
      "rowLimit": 10000
     },
     "inputWidgets": {},
     "nuid": "fb3967b0-c2e7-48d5-90b1-a6771597d2fe",
     "showTitle": false,
     "tableResultSettingsMap": {},
     "title": ""
    }
   },
   "outputs": [],
   "source": [
    "Sql_query = '''\n",
    "with cte as (\n",
    "select \n",
    "trim(replace(lower(market_name),'\"',\"\")) as actual_str,\n",
    "instr(trim(replace(lower(market_name),'\"',\"\")),\"(\") as brck_ind\n",
    "from uc_prod.gold.reporting_dim_market_gold\n",
    ")\n",
    "select \n",
    "case when brck_ind > 0 then left(actual_str,brck_ind-1) else actual_str end\n",
    "as market_name from cte\n",
    "'''"
   ]
  },
  {
   "cell_type": "code",
   "execution_count": 0,
   "metadata": {
    "application/vnd.databricks.v1+cell": {
     "cellMetadata": {
      "byteLimit": 2048000,
      "implicitDf": true,
      "rowLimit": 10000
     },
     "inputWidgets": {},
     "nuid": "4f65de03-c5c3-417d-89f8-df0c34a7958c",
     "showTitle": false,
     "tableResultSettingsMap": {},
     "title": ""
    }
   },
   "outputs": [],
   "source": [
    "market_df = spark.sql(Sql_query).collect()\n",
    "market_list = [row['market_name'] for row in market_df]\n",
    "json_array_data = []\n",
    "for item in market_list:\n",
    "    url_is = source_base_url + item+ source_relative_url\n",
    "    data = requests.get(url_is).json()\n",
    "    if isinstance(data, dict):\n",
    "        json_array_data.append(data)\n",
    "pd_df = pd.DataFrame(json_array_data)\n",
    "spark_df = spark.createDataFrame(pd_df)"
   ]
  },
  {
   "cell_type": "markdown",
   "metadata": {
    "application/vnd.databricks.v1+cell": {
     "cellMetadata": {
      "byteLimit": 2048000,
      "rowLimit": 10000
     },
     "inputWidgets": {},
     "nuid": "8b39267e-1601-4df4-bb97-bec07030be17",
     "showTitle": false,
     "tableResultSettingsMap": {},
     "title": ""
    }
   },
   "source": [
    "### writing the into bronze"
   ]
  },
  {
   "cell_type": "code",
   "execution_count": 0,
   "metadata": {
    "application/vnd.databricks.v1+cell": {
     "cellMetadata": {
      "byteLimit": 2048000,
      "rowLimit": 10000
     },
     "inputWidgets": {},
     "nuid": "c8b2bd54-169a-48e2-a8ea-0462e954a1e0",
     "showTitle": false,
     "tableResultSettingsMap": {},
     "title": ""
    }
   },
   "outputs": [],
   "source": [
    "spark_df.filter(col('results').isNotNull()).write.format('json').mode('overwrite').save(destination_location)\n",
    "# spark_df.display()"
   ]
  },
  {
   "cell_type": "markdown",
   "metadata": {
    "application/vnd.databricks.v1+cell": {
     "cellMetadata": {},
     "inputWidgets": {},
     "nuid": "8bfb0b1b-88a9-43eb-bead-5c1009be381d",
     "showTitle": false,
     "tableResultSettingsMap": {},
     "title": ""
    }
   },
   "source": [
    "## checking"
   ]
  }
 ],
 "metadata": {
  "application/vnd.databricks.v1+notebook": {
   "computePreferences": null,
   "dashboards": [],
   "environmentMetadata": {
    "base_environment": "",
    "environment_version": "2"
   },
   "inputWidgetPreferences": null,
   "language": "python",
   "notebookMetadata": {
    "mostRecentlyExecutedCommandWithImplicitDF": {
     "commandId": -1,
     "dataframes": [
      "_sqldf"
     ]
    },
    "pythonIndentUnit": 4
   },
   "notebookName": "02_Bronze_Geo_data_ingestion",
   "widgets": {}
  },
  "language_info": {
   "name": "python"
  }
 },
 "nbformat": 4,
 "nbformat_minor": 0
}
