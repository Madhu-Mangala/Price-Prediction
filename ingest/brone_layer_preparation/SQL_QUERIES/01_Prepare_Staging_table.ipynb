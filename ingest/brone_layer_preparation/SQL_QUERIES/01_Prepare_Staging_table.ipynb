{
 "cells": [
  {
   "cell_type": "code",
   "execution_count": 0,
   "metadata": {
    "application/vnd.databricks.v1+cell": {
     "cellMetadata": {
      "byteLimit": 2048000,
      "rowLimit": 10000
     },
     "inputWidgets": {},
     "nuid": "12c0bec2-5f6b-4b63-95b5-2fdd20d7f30d",
     "showTitle": false,
     "tableResultSettingsMap": {},
     "title": ""
    }
   },
   "outputs": [],
   "source": [
    "use catalog uc_prod;\n",
    "\n",
    "create table if not exists bronze.daily_pricing_tbl\n",
    "(\n",
    "    DATE_OF_PRICING STRING,\n",
    "    ROW_ID long,\n",
    "    STATE_NAME STRING,\n",
    "    MARKET_NAME STRING,\n",
    "    PRODUCTGROUP_NAME STRING,\n",
    "    PRODUCT_NAME STRING,\n",
    "    VARIETY STRING,\n",
    "    ORIGIN STRING,\n",
    "    ARRIVAL_IN_TONNES STRING,\n",
    "    MINIMUM_PRICE STRING,\n",
    "    MAXIMUM_PRICE STRING,\n",
    "    MODAL_PRICE double ,\n",
    "    file_arrival_date TIMESTAMP\n",
    ")\n",
    "using delta\n",
    "location 'abfss://bronze@madhupavanadls.dfs.core.windows.net/daily_processing_file/csv'"
   ]
  },
  {
   "cell_type": "code",
   "execution_count": 0,
   "metadata": {
    "application/vnd.databricks.v1+cell": {
     "cellMetadata": {
      "byteLimit": 2048000,
      "rowLimit": 10000
     },
     "inputWidgets": {},
     "nuid": "12911ce3-437b-435f-b084-50ece48fc074",
     "showTitle": false,
     "tableResultSettingsMap": {},
     "title": ""
    }
   },
   "outputs": [],
   "source": [
    "select * from bronze.daily_pricing_tbl"
   ]
  }
 ],
 "metadata": {
  "application/vnd.databricks.v1+notebook": {
   "computePreferences": null,
   "dashboards": [],
   "environmentMetadata": {
    "base_environment": "",
    "environment_version": "2"
   },
   "inputWidgetPreferences": null,
   "language": "sql",
   "notebookMetadata": {
    "pythonIndentUnit": 4
   },
   "notebookName": "01_Prepare_Staging_table",
   "widgets": {}
  },
  "language_info": {
   "name": "sql"
  }
 },
 "nbformat": 4,
 "nbformat_minor": 0
}
