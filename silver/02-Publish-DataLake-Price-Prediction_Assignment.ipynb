{
 "cells": [
  {
   "cell_type": "markdown",
   "metadata": {
    "application/vnd.databricks.v1+cell": {
     "cellMetadata": {
      "byteLimit": 2048000,
      "rowLimit": 10000
     },
     "inputWidgets": {},
     "nuid": "b3c63441-c9df-4074-b9a9-d65037856cea",
     "showTitle": false,
     "tableResultSettingsMap": {},
     "title": ""
    }
   },
   "source": [
    "##### Description:\n",
    "Integrate Daily Pricing Data , Geolocation Data and Weather Data to Publish in Gold Layer as a source data for Future Price Prediction Using AI\n",
    "\n",
    "##### Source Tables:\n",
    "pricing_analytics.silver.daily_pricing_silver , pricing_analytics.silver.geo_location_silver , pricing_analytics.silver.weather_data_silver\n",
    "\n",
    "##### Target Table name : DataLake_Price-Prediction_Gold\n",
    "###### Target Table Column Mappings:\n",
    "| SOURCE_TABLE_NAME | SOURCE_COLUMN_NAME | DATALAKE_TABLE_NAME | DATALAKE_COLUMN_NAME | TRANSFORMATION RULE | CONDITIONS |\n",
    "| --- | --- |--- | --- |--- |--- |\n",
    "| silver.daily_pricing_silver\t| DATE_OF_PRICING\t|datalake_price_prediction_gold| DATE_OF_PRICING| Direct Mapping |  |\n",
    "| silver.daily_pricing_silver\t| STATE_NAME\t|datalake_price_prediction_gold| STATE_NAME| Direct Mapping |  |\n",
    "| silver.daily_pricing_silver\t| MARKET_NAME\t|datalake_price_prediction_gold|  MARKET_NAME\t| Direct Mapping |  |\n",
    "| silver.daily_pricing_silver\t| PRODUCTGROUP_NAME |datalake_price_prediction_gold| PRODUCT_ID| Direct Mapping |  |\n",
    "| silver.daily_pricing_silver\t| PRODUCT_NAME\t|datalake_price_prediction_gold| PRODUCT_ID| Direct Mapping |  |\n",
    "| silver.daily_pricing_silver\t| VARIETY\t|datalake_price_prediction_gold| VARIETY_ID|Direct Mapping |  |\n",
    "| silver.daily_pricing_silver\t| ROW_ID\t|datalake_price_prediction_gold| ROW_ID| Direct Mapping |  |\n",
    "| silver.daily_pricing_silver\t| ARRIVAL_IN_TONNES\t|datalake_price_prediction_gold| ARRIVAL_IN_TONNES| Direct Mapping |  |\n",
    "| silver.daily_pricing_silver\t| MINIMUM_PRICE\t|datalake_price_prediction_gold| MINIMUM_PRICE| Direct Mapping |  |\n",
    "| silver.daily_pricing_silver\t| MAXIMUM_PRICE\t|datalake_price_prediction_gold| MAXIMUM_PRICE| Direct Mapping |  |\n",
    "| silver.daily_pricing_silver\t| MODAL_PRICE\t|datalake_price_prediction_gold| MODAL_PRICE| Direct Mapping |  |\n",
    "| silver.geo_location_silver \t| latitude\t|datalake_price_prediction_gold| MARKET_LATITUDE| Change the Source Column Name | daily_pricing_silver.STATE_NAME = geo_location_silver.stateName AND daily_pricing_silver.MARKET_NAME = geo_location_silver.marketName AND geo_location_silver.countryName = 'India' |\n",
    "| silver.geo_location_silver \t| longitude\t|datalake_price_prediction_gold| MARKET_LONGITUDE| Change the Source Column Name |  |\n",
    "| silver.geo_location_silver \t| population\t|datalake_price_prediction_gold| MARKET_POPULATION| Change the Source Column Name  |  |\n",
    "| silver.weather_data_silver \t| unitOfTemparature\t|datalake_price_prediction_gold| TEMPARATURE_UNIT| Change the Source Column Name  | daily_pricing_silver.MARKET_NAME = weather_data_silver.marketName AND daily_pricing_silver.DATE_OF_PRICING = weather_data_silver.weatherDate |\n",
    "| silver.weather_data_silver \t| maximumTemparature\t|datalake_price_prediction_gold| MARKET_MAX_TEMPARATURE | Change the Source Column Name  |  |\n",
    "| silver.weather_data_silver \t| minimumTemparature\t|datalake_price_prediction_gold| MARKET_MIN_TEMPARATURE | Change the Source Column Name  |  |\n",
    "| silver.weather_data_silver \t| unitOfRainFall\t|datalake_price_prediction_gold| RAINFALL_UNIT| Change the Source Column Name  |  |\n",
    "| silver.weather_data_silver \t| rainFall\t|datalake_price_prediction_gold| MARKET_DAILY_RAINFALL| Change the Source Column Name  |  |\n",
    "| DERIVED\t| DERIVED\t|datalake_price_prediction_gold\t| lakehouse_inserted_date\t| Load current_timestamp() | |\n",
    "| DERIVED\t| DERIVED\t|datalake_price_prediction_gold\t| lakehouse_updated_date\t| Load current_timestamp() | |\n",
    "\n",
    "\n",
    "- <a href=\"https://docs.databricks.com/en/sql/language-manual/delta-merge-into.html\" target=\"_blank\">**MERGE TABLE** </a>"
   ]
  },
  {
   "cell_type": "code",
   "execution_count": 0,
   "metadata": {
    "application/vnd.databricks.v1+cell": {
     "cellMetadata": {
      "byteLimit": 2048000,
      "rowLimit": 10000
     },
     "inputWidgets": {},
     "nuid": "a45cb2e5-3ea9-4361-b82c-d06de41edf70",
     "showTitle": false,
     "tableResultSettingsMap": {
      "0": {
       "dataGridStateBlob": "{\"version\":1,\"tableState\":{\"columnPinning\":{\"left\":[\"#row_number#\"],\"right\":[]},\"columnSizing\":{},\"columnVisibility\":{}},\"settings\":{\"columns\":{}},\"syncTimestamp\":1752138688678}",
       "filterBlob": null,
       "queryPlanFiltersBlob": null,
       "tableResultIndex": 0
      }
     },
     "title": ""
    }
   },
   "outputs": [],
   "source": [
    "insert into uc_prod.gold.price_prediction_gold\n",
    "select  \n",
    "dps.date_of_pricing,\n",
    "dps.row_id,\n",
    "dps.state_name,\n",
    "dps.market_name,\n",
    "dps.productgroup_name,\n",
    "dps.product_name,\n",
    "dps.variety,\n",
    "dps.arrival_in_tonnes,\n",
    "dps.minimum_price,\n",
    "dps.maximum_price,\n",
    "gls.latitude,\n",
    "gls.longitude,\n",
    "gls.population,\n",
    "wds.unit_of_temperature,\n",
    "wds.unit_of_rainfall,\n",
    "wds.maximumTemparature,\n",
    "wds.minimumTemparature,\n",
    "wds.rainfall,\n",
    "current_timestamp() as lakehouse_inserted_date,\n",
    "current_timestamp() as lakehouse_updated_date\n",
    "from uc_prod.silver.daily_pricing_silver as dps\n",
    "join uc_prod.silver.geo_location_silver as gls\n",
    "on trim(lower(dps.market_name)) = trim(lower(gls.market_name))\n",
    "join uc_prod.silver.weather_data_silver as wds\n",
    "on trim(lower(dps.market_name)) = trim(lower(wds.market_name)) and dps.date_of_pricing = wds.weather_date\n",
    "where lower(gls.country_name) = 'india'"
   ]
  },
  {
   "cell_type": "markdown",
   "metadata": {
    "application/vnd.databricks.v1+cell": {
     "cellMetadata": {
      "byteLimit": 2048000,
      "rowLimit": 10000
     },
     "inputWidgets": {},
     "nuid": "b457fe11-dfec-4a18-aa96-e1474633c577",
     "showTitle": false,
     "tableResultSettingsMap": {},
     "title": ""
    }
   },
   "source": [
    "##### Step 1: Create and Load Gold Layer Price Prediction Table\n",
    "\n",
    "1. SELECT the source columns mentioned above from the source table pricing_analytics.silver.daily_pricing_silver\n",
    "1. SELECT the source columns mentioned above from the source table pricing_analytics.silver.geo_location_silver and changes source column names to target column names as mentioned above mapping\n",
    "1. Include JOIN conditions between pricing_analytics.silver.daily_pricing_silver table and pricing_analytics.silver.geo_location_silver Using the Join conditions mentioned in above mapping\n",
    "1. SELECT the source columns mentioned above from the source table pricing_analytics.silver.weather_data_silver  and changes source column names to target column names as mentioned above mapping\n",
    "1. Include JOIN conditions between pricing_analytics.silver.daily_pricing_silver table and pricing_analytics.silver.weather_data_silver  Using the Join conditions mentioned in above mapping\n",
    "1. Map current_timestamp() function to additional new columns lakehouse_inserted_date and lakehouse_updated_date\n",
    "1. CREATE the target table to store the output of SELECT statement to publish the transformed data."
   ]
  },
  {
   "cell_type": "markdown",
   "metadata": {
    "application/vnd.databricks.v1+cell": {
     "cellMetadata": {
      "byteLimit": 2048000,
      "rowLimit": 10000
     },
     "inputWidgets": {},
     "nuid": "dafb5151-242b-4c27-bf3c-f72ae732c672",
     "showTitle": false,
     "tableResultSettingsMap": {},
     "title": ""
    }
   },
   "source": [
    "##### Step 2: Test The Data Stored in Gold Layer Table And Highlight Any Data Quality Issues\n",
    "\n",
    "1. Write SELECT query to select the data from pricing_analytics.gold.DataLake_Price-Prediction_Gold table\n",
    "1. Check the data for any one of the Market Name and make sure there are no data quality issues\n",
    "1. Raise any Data Quality Issuesin Target Table  as a Query in Udemy Course"
   ]
  }
 ],
 "metadata": {
  "application/vnd.databricks.v1+notebook": {
   "computePreferences": null,
   "dashboards": [],
   "environmentMetadata": {
    "base_environment": "",
    "environment_version": "2"
   },
   "inputWidgetPreferences": null,
   "language": "sql",
   "notebookMetadata": {
    "pythonIndentUnit": 4
   },
   "notebookName": "02-Publish-DataLake-Price-Prediction_Assignment",
   "widgets": {}
  },
  "language_info": {
   "name": "sql"
  }
 },
 "nbformat": 4,
 "nbformat_minor": 0
}
